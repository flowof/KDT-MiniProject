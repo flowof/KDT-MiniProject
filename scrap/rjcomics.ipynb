{
 "cells": [
  {
   "cell_type": "code",
   "execution_count": 1,
   "metadata": {},
   "outputs": [],
   "source": [
    "import pandas as pd\n",
    "import time\n",
    "from selenium import webdriver\n",
    "from selenium.webdriver.chrome.service import Service         # 경고문 안뜨게 하는거\n",
    "from selenium.webdriver.common.by import By\n",
    "\n",
    "\n",
    "import warnings   #경고문 안뜨게 하는거\n",
    "warnings.filterwarnings(action='ignore')"
   ]
  },
  {
   "cell_type": "code",
   "execution_count": 2,
   "metadata": {},
   "outputs": [],
   "source": [
    "#셀레니움 드라이버 객체 생성\n",
    "driver = webdriver.Chrome(service=Service('chromedriver.exe'))\n",
    "# 지연 시간 지정 후에 웹 브라우저 주소로 이동\n",
    "\n",
    "time.sleep(2)\n",
    "\n",
    "url = 'https://www.lezhin.com/ko/scheduled?day=1'\n",
    "driver.get(url)"
   ]
  },
  {
   "cell_type": "code",
   "execution_count": 3,
   "metadata": {},
   "outputs": [],
   "source": [
    "title = driver.find_elements_by_css_selector('div.lzComic__title')[0:15] #제목\n",
    "url = driver.find_elements_by_css_selector('li.lzComic__item')[0:15] #url \n",
    "week = driver.find_elements_by_id('scheduled-day-1')   #요일\n",
    "thumbnail = driver.find_elements_by_class_name('lzComic__img')   #썸네일\n",
    "\n",
    "# thumbnail[0].find_element_by_css_selector('img').get_attribute('src')\n",
    "# title[0].text\n",
    "# url[0].find_element_by_css_selector('a').get_attribute('href')\n",
    "# week[0].get_attribute('aria-label')"
   ]
  },
  {
   "cell_type": "code",
   "execution_count": 4,
   "metadata": {},
   "outputs": [
    {
     "data": {
      "text/plain": [
       "[<selenium.webdriver.remote.webelement.WebElement (session=\"6d2ddbf8b709cde5a754faf4020dd9cf\", element=\"4449eed0-10b8-4d8b-87c0-007edab54241\")>,\n",
       " <selenium.webdriver.remote.webelement.WebElement (session=\"6d2ddbf8b709cde5a754faf4020dd9cf\", element=\"3f7c1138-3ff8-4b53-ad28-56a70a2d4ab2\")>,\n",
       " <selenium.webdriver.remote.webelement.WebElement (session=\"6d2ddbf8b709cde5a754faf4020dd9cf\", element=\"c7271c8e-d497-45eb-8d9a-25b133b550ce\")>,\n",
       " <selenium.webdriver.remote.webelement.WebElement (session=\"6d2ddbf8b709cde5a754faf4020dd9cf\", element=\"4bc6ce69-27b5-4919-9e9a-1613c3a9ce88\")>,\n",
       " <selenium.webdriver.remote.webelement.WebElement (session=\"6d2ddbf8b709cde5a754faf4020dd9cf\", element=\"e49360c5-f654-45a7-983a-33a51a76cc5a\")>,\n",
       " <selenium.webdriver.remote.webelement.WebElement (session=\"6d2ddbf8b709cde5a754faf4020dd9cf\", element=\"0e811dd1-b0aa-4474-b7ec-041c0f639fb1\")>,\n",
       " <selenium.webdriver.remote.webelement.WebElement (session=\"6d2ddbf8b709cde5a754faf4020dd9cf\", element=\"71f63af8-1588-44d8-aa76-816ec179e641\")>,\n",
       " <selenium.webdriver.remote.webelement.WebElement (session=\"6d2ddbf8b709cde5a754faf4020dd9cf\", element=\"b2b9258e-c739-44aa-819e-df0955853a56\")>,\n",
       " <selenium.webdriver.remote.webelement.WebElement (session=\"6d2ddbf8b709cde5a754faf4020dd9cf\", element=\"19a669e1-f63b-4db2-9470-11d40d1d3428\")>,\n",
       " <selenium.webdriver.remote.webelement.WebElement (session=\"6d2ddbf8b709cde5a754faf4020dd9cf\", element=\"cd85570f-4b6a-4e76-a301-57b06dec68aa\")>,\n",
       " <selenium.webdriver.remote.webelement.WebElement (session=\"6d2ddbf8b709cde5a754faf4020dd9cf\", element=\"7032148a-3557-4701-a7f1-aaff2e0bd963\")>,\n",
       " <selenium.webdriver.remote.webelement.WebElement (session=\"6d2ddbf8b709cde5a754faf4020dd9cf\", element=\"7e0402da-5f5a-402e-87ce-74812465ea14\")>,\n",
       " <selenium.webdriver.remote.webelement.WebElement (session=\"6d2ddbf8b709cde5a754faf4020dd9cf\", element=\"4c40094e-1c00-4700-8df1-95ad92caa49c\")>,\n",
       " <selenium.webdriver.remote.webelement.WebElement (session=\"6d2ddbf8b709cde5a754faf4020dd9cf\", element=\"fa83fdeb-acf3-4829-ab51-f063c91b2fd8\")>,\n",
       " <selenium.webdriver.remote.webelement.WebElement (session=\"6d2ddbf8b709cde5a754faf4020dd9cf\", element=\"195990b9-b69f-4041-b9fe-62fdcaa3ffb9\")>]"
      ]
     },
     "execution_count": 4,
     "metadata": {},
     "output_type": "execute_result"
    }
   ],
   "source": [
    "title"
   ]
  },
  {
   "cell_type": "code",
   "execution_count": null,
   "metadata": {},
   "outputs": [],
   "source": []
  }
 ],
 "metadata": {
  "kernelspec": {
   "display_name": "Python 3",
   "language": "python",
   "name": "python3"
  },
  "language_info": {
   "codemirror_mode": {
    "name": "ipython",
    "version": 3
   },
   "file_extension": ".py",
   "mimetype": "text/x-python",
   "name": "python",
   "nbconvert_exporter": "python",
   "pygments_lexer": "ipython3",
   "version": "3.7.3"
  }
 },
 "nbformat": 4,
 "nbformat_minor": 2
}
