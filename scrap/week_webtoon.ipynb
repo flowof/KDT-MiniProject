{
 "cells": [
  {
   "cell_type": "code",
   "execution_count": 7,
   "metadata": {},
   "outputs": [],
   "source": [
    "import requests\n",
    "from bs4 import BeautifulSoup\n",
    "import pandas as pd\n",
    "from tqdm.notebook import tqdm"
   ]
  },
  {
   "cell_type": "code",
   "execution_count": 90,
   "metadata": {},
   "outputs": [
    {
     "data": {
      "application/vnd.jupyter.widget-view+json": {
       "model_id": "dd4bd8e7983e44ac8862ae0382e02e96",
       "version_major": 2,
       "version_minor": 0
      },
      "text/plain": [
       "  0%|          | 0/457 [00:00<?, ?it/s]"
      ]
     },
     "metadata": {},
     "output_type": "display_data"
    }
   ],
   "source": [
    "def weekChange(x):\n",
    "    if x == 'mon':\n",
    "        return '월요일'\n",
    "    elif x == 'tue':\n",
    "        return '화요일'\n",
    "    elif x == 'wed':\n",
    "        return '수요일'\n",
    "    elif x == 'thu':\n",
    "        return '목요일'\n",
    "    elif x == 'fri':\n",
    "        return '금요일'\n",
    "    elif x == 'sat':\n",
    "        return '토요일'\n",
    "    elif x == 'sun':\n",
    "        return '일요일'\n",
    "\n",
    "\n",
    "\n",
    "def result1():\n",
    "    url = 'https://comic.naver.com/webtoon/weekday.nhn'\n",
    "    base_url = 'https://comic.naver.com'\n",
    "    res = requests.get(url)\n",
    "    html_str = res.text\n",
    "    soup = BeautifulSoup(html_str,'html.parser')\n",
    "    a_list = soup.select('a.title')\n",
    "    thumb = soup.select('div.thumb > a > img')\n",
    "    \n",
    "    webtoons_list = []\n",
    "    \n",
    "    up = 0\n",
    "    for a in a_list:\n",
    "        title = a.text\n",
    "        url = base_url + a.get('href')\n",
    "        weekday = a.get('href')[-3:]\n",
    "        tb = thumb[up].get('src')\n",
    "        webtoons_list.append([weekday,title,url,tb])\n",
    "        up +=1\n",
    "    \n",
    "    df_webtoons = pd.DataFrame(webtoons_list,columns=['요일','제목','URL','Thumbnail'])\n",
    "    df_webtoons = df_webtoons.drop_duplicates(['제목'])   #중복 데이터 처리\n",
    "    df_webtoons = df_webtoons.reset_index(drop=True)\n",
    "    \n",
    "    df_webtoons['요일'] = df_webtoons['요일'].apply(weekChange)\n",
    "    get_id = lambda x: x[x.find('titleId=') + len('titleId=') + 1:].split('&')[0].strip()\n",
    "    df_webtoons['id'] = df_webtoons['URL'].apply(get_id)\n",
    "    \n",
    "    u_list=df_webtoons['URL'].values.tolist()\n",
    "\n",
    "    df_list = []\n",
    "\n",
    "    for url in tqdm(u_list):\n",
    "        webtoon_id = get_id(url)\n",
    "        res = requests.get(url)\n",
    "        html_str = res.text\n",
    "        soup = BeautifulSoup(html_str,'html.parser')\n",
    "\n",
    "        author = soup.select('h2 > span.wrt_nm')[0].text.strip()\n",
    "        summary= soup.select('.detail>p')[0].text\n",
    "        genre = soup.select('span.genre')[0].text\n",
    "        age = soup.select('span.age')[0].text\n",
    "\n",
    "        df_list.append([webtoon_id, author,summary,genre,age])\n",
    "        \n",
    "    dff = pd.DataFrame(df_list,columns=['id', '작가','줄거리','장르','연령제한'])\n",
    "    \n",
    "    result = pd.merge(df_webtoons, dff, how='inner', on='id')\n",
    "    \n",
    "    id_index = -1\n",
    "    \n",
    "    for index, name in enumerate(result.columns):\n",
    "        if name == 'id':\n",
    "            id_index = index\n",
    "            break\n",
    "                \n",
    "    columns = list(result.columns)\n",
    "\n",
    "    columns.pop(id_index)\n",
    "\n",
    "    result = result[['id'] + columns]\n",
    "    \n",
    "    return result.to_csv('bbb.csv',index=False, encoding='utf-8-sig')\n",
    "        \n",
    "result1()"
   ]
  },
  {
   "cell_type": "code",
   "execution_count": 94,
   "metadata": {},
   "outputs": [
    {
     "data": {
      "text/plain": [
       "'채용택 / 한가람'"
      ]
     },
     "execution_count": 94,
     "metadata": {},
     "output_type": "execute_result"
    }
   ],
   "source": [
    "url = 'https://comic.naver.com/webtoon/list?titleId=758037&weekday=mon'\n",
    "\n",
    "res = requests.get(url)\n",
    "html_str = res.text\n",
    "soup = BeautifulSoup(html_str,'html.parser')\n",
    "\n",
    "author = soup.select('h2 > span.wrt_nm')[0].text.strip()\n",
    "\n",
    "author"
   ]
  },
  {
   "cell_type": "code",
   "execution_count": 92,
   "metadata": {},
   "outputs": [],
   "source": [
    "\n",
    "url = 'https://comic.naver.com/webtoon/weekday.nhn'\n",
    "base_url = 'https://comic.naver.com'\n",
    "res = requests.get(url)\n",
    "html_str = res.text\n",
    "soup = BeautifulSoup(html_str,'html.parser')\n",
    "a_list = soup.select('a.title')\n",
    "thumb = soup.select('div.thumb > a > img')\n",
    "    \n",
    "webtoons_list = []\n",
    "    \n",
    "\n",
    "title = a.text\n",
    "url = base_url + a.get('href')\n",
    "weekday = a.get('href')[-3:]\n",
    "webtoons_list.append([weekday,title,url])"
   ]
  },
  {
   "cell_type": "code",
   "execution_count": 64,
   "metadata": {},
   "outputs": [
    {
     "data": {
      "text/plain": [
       "<img alt=\"참교육\" height=\"90\" onerror=\"this.src='https://ssl.pstatic.net/static/comic/images/migration/common/blank.gif'\" src=\"https://shared-comic.pstatic.net/thumb/webtoon/758037/thumbnail/thumbnail_IMAG10_a2297504-4912-4c7e-a5a8-524d6fc77103.jpg\" title=\"참교육\" width=\"83\"/>"
      ]
     },
     "execution_count": 64,
     "metadata": {},
     "output_type": "execute_result"
    }
   ],
   "source": [
    "thumb[0].get('src')"
   ]
  }
 ],
 "metadata": {
  "kernelspec": {
   "display_name": "Python 3",
   "language": "python",
   "name": "python3"
  },
  "language_info": {
   "codemirror_mode": {
    "name": "ipython",
    "version": 3
   },
   "file_extension": ".py",
   "mimetype": "text/x-python",
   "name": "python",
   "nbconvert_exporter": "python",
   "pygments_lexer": "ipython3",
   "version": "3.7.3"
  }
 },
 "nbformat": 4,
 "nbformat_minor": 5
}
