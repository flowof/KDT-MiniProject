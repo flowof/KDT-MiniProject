{
 "cells": [
  {
   "cell_type": "markdown",
   "metadata": {},
   "source": [
    "# Yes24 베스트셀러 정보 저장하기 \n",
    "\n",
    "- http://www.yes24.com/Main/default.aspx"
   ]
  },
  {
   "cell_type": "code",
   "execution_count": 1,
   "metadata": {},
   "outputs": [],
   "source": [
    "# 관련 모듈 임포트 \n",
    "import requests\n",
    "from bs4 import BeautifulSoup\n",
    "import pandas as pd"
   ]
  },
  {
   "cell_type": "code",
   "execution_count": 2,
   "metadata": {},
   "outputs": [
    {
     "data": {
      "text/plain": [
       "<Response [200]>"
      ]
     },
     "execution_count": 2,
     "metadata": {},
     "output_type": "execute_result"
    }
   ],
   "source": [
    "# response 객체 => html 페이지\n",
    "\n",
    "url = 'http://www.yes24.com/Main/default.aspx'\n",
    "res = requests.get(url)\n",
    "html_str = res.text\n",
    "res"
   ]
  },
  {
   "cell_type": "code",
   "execution_count": 4,
   "metadata": {},
   "outputs": [],
   "source": [
    "# html_str"
   ]
  },
  {
   "cell_type": "code",
   "execution_count": 6,
   "metadata": {},
   "outputs": [],
   "source": [
    "# html => Beautiful 객체화 \n",
    "soup = BeautifulSoup(html_str, 'html.parser')\n",
    "# soup"
   ]
  },
  {
   "cell_type": "code",
   "execution_count": 9,
   "metadata": {},
   "outputs": [
    {
     "data": {
      "text/plain": [
       "10"
      ]
     },
     "execution_count": 9,
     "metadata": {},
     "output_type": "execute_result"
    }
   ],
   "source": [
    "# 베스트셀러 요소만 리스트로 저장하기 \n",
    "# li_list = soup.find_all(class_='tp02')\n",
    "li_list = soup.select('li.tp02')\n",
    "len(li_list)"
   ]
  },
  {
   "cell_type": "code",
   "execution_count": 12,
   "metadata": {},
   "outputs": [
    {
     "data": {
      "text/plain": [
       "<li class=\"tp02\">\n",
       "<strong class=\"icon rnk_1\">1위</strong>\n",
       "<em class=\"rnk_chg chg_up\">2</em>\n",
       "<span class=\"rnk_img\"><img alt=\"트렌드 코리아 2022\" border=\"0\" src=\"http://image.yes24.com/Goods/103737985/S\" width=\"40\"/></span>\n",
       "<span class=\"rnk_info\">\n",
       "<strong>트렌드 코리아 2022</strong>\n",
       "<em>김난도,전미영 등저</em>\n",
       "</span>\n",
       "<a class=\"rnk_lnk\" href=\"/Product/Goods/103737985\" onclick=\"setWcode('010_006');\" target=\"_self\" title=\"트렌드 코리아 2022 김난도,전미영 등저 미래의창\">'트렌드 코리아 2022' 상품상세로 이동</a>\n",
       "</li>"
      ]
     },
     "execution_count": 12,
     "metadata": {},
     "output_type": "execute_result"
    }
   ],
   "source": [
    "li_list[0]"
   ]
  },
  {
   "cell_type": "code",
   "execution_count": 33,
   "metadata": {},
   "outputs": [
    {
     "name": "stdout",
     "output_type": "stream",
     "text": [
      "순위 =>  1위\n",
      "책제목 =>  트렌드 코리아 2022\n",
      "저자 =>  김난도,전미영 등저\n",
      "출판사 =>  미래의창\n",
      "표지 URL =>  http://image.yes24.com/Goods/103737985/XL\n",
      "URL =>  http://www.yes24.com/Product/Goods/103737985\n"
     ]
    }
   ],
   "source": [
    "print('순위 => ', li_list[0].select_one('strong.icon').text)\n",
    "# print('순위 => ', li_list[0].select('strong.icon')[0].text)\n",
    "print('책제목 => ', li_list[0].select('strong')[1].text)\n",
    "print('저자 => ', li_list[0].select('em')[1].text)\n",
    "# print('출판사 => ', li_list[0].select_one('a').get('title'))\n",
    "# print('출판사 => ', li_list[0].select_one('a').get('title').split())\n",
    "print('출판사 => ', li_list[0].select_one('a').get('title').split()[-1])\n",
    "# print('표지 URL => ', li_list[0].select_one('img').get('src'))\n",
    "print('표지 URL => ', li_list[0].select_one('img').get('src').replace('S','XL'))\n",
    "base_url = 'http://www.yes24.com'\n",
    "print('URL => ', base_url + li_list[0].select_one('a').get('href'))"
   ]
  },
  {
   "cell_type": "code",
   "execution_count": 35,
   "metadata": {},
   "outputs": [
    {
     "data": {
      "text/plain": [
       "10"
      ]
     },
     "execution_count": 35,
     "metadata": {},
     "output_type": "execute_result"
    }
   ],
   "source": [
    "# 2차원 리스트로 저장 \n",
    "bestseller_list = []\n",
    "base_url = 'http://www.yes24.com'\n",
    "for li in li_list:\n",
    "    rank = li.select_one('strong.icon').text\n",
    "    title = li.select('strong')[1].text\n",
    "    writer = li.select('em')[1].text\n",
    "    public = li.select_one('a').get('title').split()[-1]\n",
    "    bookImg = li.select_one('img').get('src').replace('S','XL')\n",
    "    url = base_url + li.select_one('a').get('href')\n",
    "    bestseller_list.append([rank, title, writer, public, bookImg, url])\n",
    "len(bestseller_list)"
   ]
  },
  {
   "cell_type": "code",
   "execution_count": 36,
   "metadata": {},
   "outputs": [
    {
     "data": {
      "text/html": [
       "<div>\n",
       "<style scoped>\n",
       "    .dataframe tbody tr th:only-of-type {\n",
       "        vertical-align: middle;\n",
       "    }\n",
       "\n",
       "    .dataframe tbody tr th {\n",
       "        vertical-align: top;\n",
       "    }\n",
       "\n",
       "    .dataframe thead th {\n",
       "        text-align: right;\n",
       "    }\n",
       "</style>\n",
       "<table border=\"1\" class=\"dataframe\">\n",
       "  <thead>\n",
       "    <tr style=\"text-align: right;\">\n",
       "      <th></th>\n",
       "      <th>순위</th>\n",
       "      <th>책제목</th>\n",
       "      <th>저자</th>\n",
       "      <th>출판사</th>\n",
       "      <th>표지</th>\n",
       "      <th>URL</th>\n",
       "    </tr>\n",
       "  </thead>\n",
       "  <tbody>\n",
       "    <tr>\n",
       "      <th>0</th>\n",
       "      <td>1위</td>\n",
       "      <td>트렌드 코리아 2022</td>\n",
       "      <td>김난도,전미영 등저</td>\n",
       "      <td>미래의창</td>\n",
       "      <td>http://image.yes24.com/Goods/103737985/XL</td>\n",
       "      <td>http://www.yes24.com/Product/Goods/103737985</td>\n",
       "    </tr>\n",
       "    <tr>\n",
       "      <th>1</th>\n",
       "      <td>2위</td>\n",
       "      <td>갯마을 차차차 2</td>\n",
       "      <td>신하은 저</td>\n",
       "      <td>북로그컴퍼니</td>\n",
       "      <td>http://image.yes24.com/Goods/104105224/XL</td>\n",
       "      <td>http://www.yes24.com/Product/Goods/104105224</td>\n",
       "    </tr>\n",
       "    <tr>\n",
       "      <th>2</th>\n",
       "      <td>3위</td>\n",
       "      <td>갯마을 차차차 1</td>\n",
       "      <td>신하은 저</td>\n",
       "      <td>북로그컴퍼니</td>\n",
       "      <td>http://image.yes24.com/Goods/104105212/XL</td>\n",
       "      <td>http://www.yes24.com/Product/Goods/104105212</td>\n",
       "    </tr>\n",
       "    <tr>\n",
       "      <th>3</th>\n",
       "      <td>4위</td>\n",
       "      <td>설민석의 한국사 대모험 18</td>\n",
       "      <td>설민석,스토리박스 글/정현희 그림/강석화 감수</td>\n",
       "      <td>아이휴먼</td>\n",
       "      <td>http://image.yes24.com/Goods/104122285/XL</td>\n",
       "      <td>http://www.yes24.com/Product/Goods/104122285</td>\n",
       "    </tr>\n",
       "    <tr>\n",
       "      <th>4</th>\n",
       "      <td>5위</td>\n",
       "      <td>달러구트 꿈 백화점 2</td>\n",
       "      <td>이미예 저</td>\n",
       "      <td>팩토리나인</td>\n",
       "      <td>http://image.yes24.com/Goods/102789938/XL</td>\n",
       "      <td>http://www.yes24.com/Product/Goods/102789938</td>\n",
       "    </tr>\n",
       "    <tr>\n",
       "      <th>5</th>\n",
       "      <td>6위</td>\n",
       "      <td>달러구트 꿈 백화점</td>\n",
       "      <td>이미예 저</td>\n",
       "      <td>팩토리나인</td>\n",
       "      <td>http://image.yes24.com/Goods/91065309/XL</td>\n",
       "      <td>http://www.yes24.com/Product/Goods/91065309</td>\n",
       "    </tr>\n",
       "    <tr>\n",
       "      <th>6</th>\n",
       "      <td>7위</td>\n",
       "      <td>4~7세 보다 중요한 시기는 없습니다</td>\n",
       "      <td>이임숙 저</td>\n",
       "      <td>카시오페아</td>\n",
       "      <td>http://image.yes24.com/Goods/102815649/XL</td>\n",
       "      <td>http://www.yes24.com/Product/Goods/102815649</td>\n",
       "    </tr>\n",
       "    <tr>\n",
       "      <th>7</th>\n",
       "      <td>8위</td>\n",
       "      <td>설민석의 세계사 대모험 10</td>\n",
       "      <td>설민석,김정욱 글/박성일 그림/원태준 감수</td>\n",
       "      <td>단꿈아이</td>\n",
       "      <td>http://image.yes24.com/Goods/103967136/XL</td>\n",
       "      <td>http://www.yes24.com/Product/Goods/103967136</td>\n",
       "    </tr>\n",
       "    <tr>\n",
       "      <th>8</th>\n",
       "      <td>9위</td>\n",
       "      <td>오늘 밤, 세계에서 이 사랑이 사라진다 해도</td>\n",
       "      <td>이치조 미사키 저/권영주 역</td>\n",
       "      <td>모모</td>\n",
       "      <td>http://image.yes24.com/Goods/102360203/XL</td>\n",
       "      <td>http://www.yes24.com/Product/Goods/102360203</td>\n",
       "    </tr>\n",
       "    <tr>\n",
       "      <th>9</th>\n",
       "      <td>10위</td>\n",
       "      <td>지금은 나만의 시간입니다</td>\n",
       "      <td>김유진 저</td>\n",
       "      <td>토네이도</td>\n",
       "      <td>http://image.yes24.com/Goods/103981730/XL</td>\n",
       "      <td>http://www.yes24.com/Product/Goods/103981730</td>\n",
       "    </tr>\n",
       "  </tbody>\n",
       "</table>\n",
       "</div>"
      ],
      "text/plain": [
       "    순위                       책제목                         저자     출판사  \\\n",
       "0   1위              트렌드 코리아 2022                 김난도,전미영 등저    미래의창   \n",
       "1   2위                 갯마을 차차차 2                      신하은 저  북로그컴퍼니   \n",
       "2   3위                 갯마을 차차차 1                      신하은 저  북로그컴퍼니   \n",
       "3   4위           설민석의 한국사 대모험 18  설민석,스토리박스 글/정현희 그림/강석화 감수    아이휴먼   \n",
       "4   5위              달러구트 꿈 백화점 2                      이미예 저   팩토리나인   \n",
       "5   6위                달러구트 꿈 백화점                      이미예 저   팩토리나인   \n",
       "6   7위      4~7세 보다 중요한 시기는 없습니다                      이임숙 저   카시오페아   \n",
       "7   8위           설민석의 세계사 대모험 10    설민석,김정욱 글/박성일 그림/원태준 감수    단꿈아이   \n",
       "8   9위  오늘 밤, 세계에서 이 사랑이 사라진다 해도            이치조 미사키 저/권영주 역      모모   \n",
       "9  10위             지금은 나만의 시간입니다                     김유진 저     토네이도   \n",
       "\n",
       "                                          표지  \\\n",
       "0  http://image.yes24.com/Goods/103737985/XL   \n",
       "1  http://image.yes24.com/Goods/104105224/XL   \n",
       "2  http://image.yes24.com/Goods/104105212/XL   \n",
       "3  http://image.yes24.com/Goods/104122285/XL   \n",
       "4  http://image.yes24.com/Goods/102789938/XL   \n",
       "5   http://image.yes24.com/Goods/91065309/XL   \n",
       "6  http://image.yes24.com/Goods/102815649/XL   \n",
       "7  http://image.yes24.com/Goods/103967136/XL   \n",
       "8  http://image.yes24.com/Goods/102360203/XL   \n",
       "9  http://image.yes24.com/Goods/103981730/XL   \n",
       "\n",
       "                                            URL  \n",
       "0  http://www.yes24.com/Product/Goods/103737985  \n",
       "1  http://www.yes24.com/Product/Goods/104105224  \n",
       "2  http://www.yes24.com/Product/Goods/104105212  \n",
       "3  http://www.yes24.com/Product/Goods/104122285  \n",
       "4  http://www.yes24.com/Product/Goods/102789938  \n",
       "5   http://www.yes24.com/Product/Goods/91065309  \n",
       "6  http://www.yes24.com/Product/Goods/102815649  \n",
       "7  http://www.yes24.com/Product/Goods/103967136  \n",
       "8  http://www.yes24.com/Product/Goods/102360203  \n",
       "9  http://www.yes24.com/Product/Goods/103981730  "
      ]
     },
     "execution_count": 36,
     "metadata": {},
     "output_type": "execute_result"
    }
   ],
   "source": [
    "#  데이타프레임 구조로 변경 \n",
    "field_list = [ '순위', '책제목', '저자', '출판사', '표지', 'URL' ]\n",
    "df_bestseller = pd.DataFrame(bestseller_list, columns=field_list)\n",
    "df_bestseller"
   ]
  },
  {
   "cell_type": "code",
   "execution_count": 38,
   "metadata": {},
   "outputs": [
    {
     "data": {
      "text/html": [
       "<div>\n",
       "<style scoped>\n",
       "    .dataframe tbody tr th:only-of-type {\n",
       "        vertical-align: middle;\n",
       "    }\n",
       "\n",
       "    .dataframe tbody tr th {\n",
       "        vertical-align: top;\n",
       "    }\n",
       "\n",
       "    .dataframe thead th {\n",
       "        text-align: right;\n",
       "    }\n",
       "</style>\n",
       "<table border=\"1\" class=\"dataframe\">\n",
       "  <thead>\n",
       "    <tr style=\"text-align: right;\">\n",
       "      <th></th>\n",
       "      <th>순위</th>\n",
       "      <th>책제목</th>\n",
       "      <th>저자</th>\n",
       "      <th>출판사</th>\n",
       "      <th>표지</th>\n",
       "      <th>URL</th>\n",
       "    </tr>\n",
       "  </thead>\n",
       "  <tbody>\n",
       "    <tr>\n",
       "      <th>0</th>\n",
       "      <td>1위</td>\n",
       "      <td>트렌드 코리아 2022</td>\n",
       "      <td>김난도,전미영 등저</td>\n",
       "      <td>미래의창</td>\n",
       "      <td>http://image.yes24.com/Goods/103737985/XL</td>\n",
       "      <td>http://www.yes24.com/Product/Goods/103737985</td>\n",
       "    </tr>\n",
       "  </tbody>\n",
       "</table>\n",
       "</div>"
      ],
      "text/plain": [
       "   순위           책제목          저자   출판사  \\\n",
       "0  1위  트렌드 코리아 2022  김난도,전미영 등저  미래의창   \n",
       "\n",
       "                                          표지  \\\n",
       "0  http://image.yes24.com/Goods/103737985/XL   \n",
       "\n",
       "                                            URL  \n",
       "0  http://www.yes24.com/Product/Goods/103737985  "
      ]
     },
     "execution_count": 38,
     "metadata": {},
     "output_type": "execute_result"
    }
   ],
   "source": [
    "df_bestseller.head(1)"
   ]
  },
  {
   "cell_type": "code",
   "execution_count": 39,
   "metadata": {},
   "outputs": [],
   "source": [
    "# csv 파일로 저장 \n",
    "df_bestseller.to_csv('output/yes24_bestseller.csv', index=False)"
   ]
  },
  {
   "cell_type": "code",
   "execution_count": 40,
   "metadata": {},
   "outputs": [
    {
     "name": "stdout",
     "output_type": "stream",
     "text": [
      " C 드라이브의 볼륨에는 이름이 없습니다.\n",
      " 볼륨 일련 번호: DC29-8D46\n",
      "\n",
      " C:\\workspace2110\\scrap\\output 디렉터리\n",
      "\n",
      "2021-10-15  오전 11:48    <DIR>          .\n",
      "2021-10-15  오전 11:48    <DIR>          ..\n",
      "2021-10-14  오후 02:46    <DIR>          .ipynb_checkpoints\n",
      "2021-10-15  오전 10:31             3,040 alexa_topSites.csv\n",
      "2021-10-15  오전 10:40               668 alexa_topSites10.csv\n",
      "2021-10-15  오전 10:51               165 alexa_topSites5.csv\n",
      "2021-10-14  오후 02:47           510,584 alladin.html\n",
      "2021-10-14  오후 02:47           392,680 alladin2.html\n",
      "2021-10-14  오후 05:22            12,432 color.csv\n",
      "2021-10-14  오후 02:09           565,325 yes24.html\n",
      "2021-10-15  오전 11:48             1,739 yes24_bestseller.csv\n",
      "               8개 파일           1,486,633 바이트\n",
      "               3개 디렉터리  22,898,364,416 바이트 남음\n"
     ]
    }
   ],
   "source": [
    "ls output"
   ]
  },
  {
   "cell_type": "code",
   "execution_count": null,
   "metadata": {},
   "outputs": [],
   "source": []
  }
 ],
 "metadata": {
  "kernelspec": {
   "display_name": "Python 3",
   "language": "python",
   "name": "python3"
  },
  "language_info": {
   "codemirror_mode": {
    "name": "ipython",
    "version": 3
   },
   "file_extension": ".py",
   "mimetype": "text/x-python",
   "name": "python",
   "nbconvert_exporter": "python",
   "pygments_lexer": "ipython3",
   "version": "3.7.3"
  }
 },
 "nbformat": 4,
 "nbformat_minor": 4
}
