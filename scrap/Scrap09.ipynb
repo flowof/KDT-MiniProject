{
 "cells": [
  {
   "cell_type": "markdown",
   "metadata": {},
   "source": [
    "# 웹수집 방법\n",
    "- 웹스크랩핑 : requests, urllib, bs4, selenium\n",
    "- 공공데이타 포털 제공 => csv, excel\n",
    "- API 서비스 => 네이버, 카카오, 통계청, 공공데이타포털 (xml, json 지식 필요) \n",
    "- 판다스 금융라이브러리 (주식, 비트코인, 환율, 원자재....) "
   ]
  },
  {
   "cell_type": "markdown",
   "metadata": {},
   "source": [
    "# Selenium을 이용한 동적 컨텐츠 수집\n",
    "\n",
    "- 원격으로 웹페이지 소스를 활용하기 위한 라이브러리 \n",
    "- 동적컨텐츠 수집에 주로 사용 \n",
    "- 작업환경 : 크롬 + 셀레니움용 웹드라이버 설치 \n",
    "- 주의사항 : 크롬 버전과 웹드라이버 버전이 일치 \n",
    "\n",
    "- 설치 과정 \n",
    "```\n",
    "1) 크롬 웹브라우저 버전 확인 \n",
    "   1시방향 옵션 버튼 클릭 후 [도움말]-[Chrome 정보] 확인 \n",
    "   버전은? 예)94.0\n",
    "2) 크롬 웹브라우저에 맞는 드라이버 파일 다운로드 \n",
    "   https://sites.google.com/a/chromium.org/chromedriver/downloads\n",
    "   \n",
    "   윈도우용인 경우 : \tchromedriver_win32.zip\n",
    "   \n",
    "   쥬피터노트북 파일이 있는 폴더에 압축해제한다. \n",
    "   chromedriver.exe 파일이 있는지 확인 \n",
    "3) 셀레니움 설치 \n",
    "   pip list 로 selenium 이 있는지 확인\n",
    "   \n",
    "   없으면 설치\n",
    "   pip install selenium\n",
    "```"
   ]
  },
  {
   "cell_type": "code",
   "execution_count": 6,
   "metadata": {},
   "outputs": [],
   "source": [
    "# selenium  목록이 있는지 확인"
   ]
  },
  {
   "cell_type": "code",
   "execution_count": 11,
   "metadata": {},
   "outputs": [],
   "source": [
    "# !pip list"
   ]
  },
  {
   "cell_type": "code",
   "execution_count": 12,
   "metadata": {},
   "outputs": [],
   "source": [
    "# !pip install selenium"
   ]
  },
  {
   "cell_type": "code",
   "execution_count": 3,
   "metadata": {},
   "outputs": [],
   "source": [
    "# chromedriver.exe  파일 있는지 확인할것 "
   ]
  },
  {
   "cell_type": "code",
   "execution_count": 2,
   "metadata": {},
   "outputs": [
    {
     "name": "stdout",
     "output_type": "stream",
     "text": [
      " C 드라이브의 볼륨에는 이름이 없습니다.\n",
      " 볼륨 일련 번호: DC29-8D46\n",
      "\n",
      " C:\\workspace2110\\scrap 디렉터리\n",
      "\n",
      "2021-10-18  오전 11:45    <DIR>          .\n",
      "2021-10-18  오전 11:45    <DIR>          ..\n",
      "2021-10-18  오전 11:26    <DIR>          .ipynb_checkpoints\n",
      "2020-07-14  오전 03:15        28,589,328 [강의자료]_파이썬으로 배우는 웹 크롤러_2020-07-14.pdf\n",
      "2021-09-08  오전 03:02        11,232,768 chromedriver.exe\n",
      "2021-10-18  오전 11:42         5,993,388 chromedriver_win32 (2).zip\n",
      "2021-10-18  오전 11:22    <DIR>          output\n",
      "2021-10-14  오후 05:36            57,578 Scarp03.ipynb\n",
      "2021-10-14  오후 02:49            14,087 Scrap01.ipynb\n",
      "2021-10-14  오후 04:31            90,186 Scrap02.ipynb\n",
      "2021-10-15  오전 10:59            90,034 Scrap04.ipynb\n",
      "2021-10-15  오전 11:50            17,359 Scrap05.ipynb\n",
      "2021-10-15  오후 02:12            15,515 Scrap06.ipynb\n",
      "2021-10-15  오후 04:03            76,466 Scrap07.ipynb\n",
      "2021-10-15  오후 04:15             1,596 Scrap08.ipynb\n",
      "2021-10-18  오전 09:52            27,636 Scrap08_ans1.ipynb\n",
      "2021-10-18  오전 11:24            52,471 Scrap08_ans2.ipynb\n",
      "2021-10-18  오전 11:45             3,098 Scrap09.ipynb\n",
      "2021-10-15  오후 01:46    <DIR>          제출\n",
      "              14개 파일          46,261,510 바이트\n",
      "               5개 디렉터리  18,770,501,632 바이트 남음\n"
     ]
    }
   ],
   "source": [
    "ls"
   ]
  },
  {
   "cell_type": "markdown",
   "metadata": {},
   "source": [
    "# 구글 검색엔진에서 검색어 결과 저장하기 "
   ]
  },
  {
   "cell_type": "code",
   "execution_count": 8,
   "metadata": {},
   "outputs": [],
   "source": [
    "# 1) 관련 모듈 임포트 \n",
    "import pandas as pd\n",
    "import time\n",
    "from selenium import webdriver\n",
    "# from selenium.webdriver.chrome.service import Service"
   ]
  },
  {
   "cell_type": "code",
   "execution_count": 19,
   "metadata": {},
   "outputs": [],
   "source": [
    "# 2) 셀레니움 드라이버 객체 생성 \n",
    "# 맥용\n",
    "# driver = webdriver.Chrome(executable_path='./chromedriver')\n",
    "\n",
    "# 윈도우용 잘 안될때 다른 방법\n",
    "# from selenium.webdriver.chrome.service import Service\n",
    "# driver = webdriver.Chrome(service=Service('chromedriver.exe'))\n",
    "\n",
    "\n",
    "# 윈도우용\n",
    "driver = webdriver.Chrome('chromedriver.exe')\n",
    "\n",
    "\n",
    "# 3) 지연시간 지정 후에 웹브라우저 주소로 이동 \n",
    "time.sleep(2)\n",
    "\n",
    "url = 'http://www.google.com'\n",
    "driver.get(url)\n",
    "\n",
    "# 결과적으로 크롬웹브라우저가 자동으로 실행된다. \n"
   ]
  },
  {
   "cell_type": "code",
   "execution_count": 20,
   "metadata": {},
   "outputs": [],
   "source": [
    "# 4) 구글 검색창에 검색어를 입력하고 결과 페이지를 출력하기 \n",
    "# find_element_by_name(name속성값)\n",
    "# 동작은?\n",
    "# send_keys(키워드) : 텍스트필드에 값을 입력하는 이벤트 \n",
    "# click() => 선택자 요소 클릭 \n",
    "# submit() => 전송이벤트 \n",
    "\n",
    "time.sleep(2)\n",
    "\n",
    "driver.find_element_by_name('q').send_keys('파이썬')\n",
    "driver.find_element_by_name('q').submit()"
   ]
  },
  {
   "cell_type": "code",
   "execution_count": 21,
   "metadata": {},
   "outputs": [],
   "source": [
    "# 5) 지연시간 후에 웹브라우저 닫기 \n",
    "\n",
    "time.sleep(5)\n",
    "driver.close()\n"
   ]
  },
  {
   "cell_type": "code",
   "execution_count": 22,
   "metadata": {},
   "outputs": [],
   "source": [
    "# 경고 메세지 출력 X\n",
    "import warnings\n",
    "warnings.filterwarnings(action='ignore')\n",
    "# 다시 나오게하려면 \n",
    "# warnings.filterwarnings(action='default')\n"
   ]
  },
  {
   "cell_type": "markdown",
   "metadata": {},
   "source": [
    "### 선택자로 찾기 1\n",
    "\n",
    "- find_elements_by_css_selector(선택자) => 리스트로 반환\n",
    "- find_element_by_css_selector(선택자) => 첫번째 선택자에 해당하는 것만 반환 \n",
    "- .text => 문자열 반환 \n",
    "- .get_attribute(속성) => 속성에 해당하는 값이 반환 "
   ]
  },
  {
   "cell_type": "code",
   "execution_count": 42,
   "metadata": {},
   "outputs": [],
   "source": [
    "# 크롬 웹브라우저 실행 => 구글 사이트로 이동 \n",
    "# 검색어 입력 => 검색어 결과 페이지 표시 \n",
    "\n",
    "driver = webdriver.Chrome('chromedriver.exe')\n",
    "time.sleep(2)\n",
    "\n",
    "url = 'http://www.google.com'\n",
    "driver.get(url)\n",
    "\n",
    "time.sleep(2)\n",
    "\n",
    "driver.find_element_by_name('q').send_keys('파이썬')\n",
    "driver.find_element_by_name('q').submit()\n"
   ]
  },
  {
   "cell_type": "code",
   "execution_count": 43,
   "metadata": {
    "scrolled": true
   },
   "outputs": [
    {
     "name": "stdout",
     "output_type": "stream",
     "text": [
      "<selenium.webdriver.remote.webelement.WebElement (session=\"d6dd8c74cc8f0ffd3be3f9c6a0d07cf4\", element=\"a2b560ba-01bb-4627-98a1-808d70555a93\")>\n",
      "Welcome to Python.org\n",
      "<selenium.webdriver.remote.webelement.WebElement (session=\"d6dd8c74cc8f0ffd3be3f9c6a0d07cf4\", element=\"33b328e7-f795-42de-9933-d2a71a6fe9a6\")>\n",
      "https://www.python.org/\n"
     ]
    }
   ],
   "source": [
    "# 첫번째 검색 결과 찾기 \n",
    "target = 'div.yuRUbf > a > h3'\n",
    "title = driver.find_element_by_css_selector(target)\n",
    "print(title)\n",
    "print(title.text)\n",
    "\n",
    "target = 'div.yuRUbf > a'\n",
    "url = driver.find_element_by_css_selector(target)\n",
    "print(url)\n",
    "print(url.get_attribute('href'))\n",
    "\n",
    "# target = 'div.IsZvec > div.VwiC3b.yXK7lf.MUxGbd.yDYNvb.lyLwlc.lEBKkf > span'\n",
    "# desc = driver.find_element_by_css_selector(target)\n",
    "# print(desc.text)"
   ]
  },
  {
   "cell_type": "code",
   "execution_count": 44,
   "metadata": {},
   "outputs": [
    {
     "name": "stdout",
     "output_type": "stream",
     "text": [
      "[<selenium.webdriver.remote.webelement.WebElement (session=\"d6dd8c74cc8f0ffd3be3f9c6a0d07cf4\", element=\"a2b560ba-01bb-4627-98a1-808d70555a93\")>, <selenium.webdriver.remote.webelement.WebElement (session=\"d6dd8c74cc8f0ffd3be3f9c6a0d07cf4\", element=\"0d46ec33-1ea2-4c60-8968-bc1158df79ce\")>, <selenium.webdriver.remote.webelement.WebElement (session=\"d6dd8c74cc8f0ffd3be3f9c6a0d07cf4\", element=\"fc953fe4-98cd-467e-a144-07bf4cd19722\")>, <selenium.webdriver.remote.webelement.WebElement (session=\"d6dd8c74cc8f0ffd3be3f9c6a0d07cf4\", element=\"3d882874-e82f-4312-86b0-b202755ee35d\")>, <selenium.webdriver.remote.webelement.WebElement (session=\"d6dd8c74cc8f0ffd3be3f9c6a0d07cf4\", element=\"c00e6af1-daec-48cc-b036-15d04e4ef3ba\")>, <selenium.webdriver.remote.webelement.WebElement (session=\"d6dd8c74cc8f0ffd3be3f9c6a0d07cf4\", element=\"f4dc4505-f6be-466a-88a9-965882bf0b41\")>, <selenium.webdriver.remote.webelement.WebElement (session=\"d6dd8c74cc8f0ffd3be3f9c6a0d07cf4\", element=\"de676faf-fb04-4215-ae1b-880f720deddf\")>]\n",
      "7\n",
      "['Welcome to Python.org', '파이썬 - 위키백과, 우리 모두의 백과사전', 'Python - 나무위키', '01-4 파이썬 설치하기', 'SUB) Why You Should Learn Python | Free Live Lecture', '모두를 위한 프로그래밍 : 파이썬 강좌소개 - edwith', '파이썬이란? - 코딩의 시작, TCP School']\n",
      "7\n"
     ]
    }
   ],
   "source": [
    "# 리스트로 반환해서 데이타 프레임으로 저장 \n",
    "\n",
    "# 제목만 리스트로 저장하기 \n",
    "search_list1 = []\n",
    "\n",
    "target = 'div.yuRUbf > a > h3'\n",
    "title_list = driver.find_elements_by_css_selector(target)\n",
    "print(title_list)\n",
    "print(len(title_list))\n",
    "\n",
    "for item in title_list:\n",
    "    search_list1.append(item.text)\n",
    "\n",
    "# 결과에 따라서 슬라이싱하기     \n",
    "# search_list1 = search_list1[:-3]\n",
    "\n",
    "print(search_list1)\n",
    "print(len(search_list1))"
   ]
  },
  {
   "cell_type": "code",
   "execution_count": 45,
   "metadata": {},
   "outputs": [
    {
     "name": "stdout",
     "output_type": "stream",
     "text": [
      "['https://www.python.org/', 'https://ko.wikipedia.org/wiki/%ED%8C%8C%EC%9D%B4%EC%8D%AC', 'https://namu.wiki/w/Python', 'https://wikidocs.net/8', 'https://www.youtube.com/watch?v=8vjgx7joCqg', 'https://www.edwith.org/pythonforeverybody', 'http://tcpschool.com/python/intro']\n",
      "7\n"
     ]
    }
   ],
   "source": [
    "# 하이퍼링크만 리스트로 저장하기 \n",
    "search_list2 = []\n",
    "\n",
    "target = 'div.yuRUbf > a'\n",
    "url_list = driver.find_elements_by_css_selector(target)\n",
    "\n",
    "for item in url_list:\n",
    "    search_list2.append(item.get_attribute('href'))\n",
    "\n",
    "print(search_list2)\n",
    "print(len(search_list2))"
   ]
  },
  {
   "cell_type": "code",
   "execution_count": 46,
   "metadata": {},
   "outputs": [
    {
     "data": {
      "text/html": [
       "<div>\n",
       "<style scoped>\n",
       "    .dataframe tbody tr th:only-of-type {\n",
       "        vertical-align: middle;\n",
       "    }\n",
       "\n",
       "    .dataframe tbody tr th {\n",
       "        vertical-align: top;\n",
       "    }\n",
       "\n",
       "    .dataframe thead th {\n",
       "        text-align: right;\n",
       "    }\n",
       "</style>\n",
       "<table border=\"1\" class=\"dataframe\">\n",
       "  <thead>\n",
       "    <tr style=\"text-align: right;\">\n",
       "      <th></th>\n",
       "      <th>title</th>\n",
       "      <th>URL</th>\n",
       "    </tr>\n",
       "  </thead>\n",
       "  <tbody>\n",
       "    <tr>\n",
       "      <th>0</th>\n",
       "      <td>Welcome to Python.org</td>\n",
       "      <td>https://www.python.org/</td>\n",
       "    </tr>\n",
       "    <tr>\n",
       "      <th>1</th>\n",
       "      <td>파이썬 - 위키백과, 우리 모두의 백과사전</td>\n",
       "      <td>https://ko.wikipedia.org/wiki/%ED%8C%8C%EC%9D%...</td>\n",
       "    </tr>\n",
       "    <tr>\n",
       "      <th>2</th>\n",
       "      <td>Python - 나무위키</td>\n",
       "      <td>https://namu.wiki/w/Python</td>\n",
       "    </tr>\n",
       "    <tr>\n",
       "      <th>3</th>\n",
       "      <td>01-4 파이썬 설치하기</td>\n",
       "      <td>https://wikidocs.net/8</td>\n",
       "    </tr>\n",
       "    <tr>\n",
       "      <th>4</th>\n",
       "      <td>SUB) Why You Should Learn Python | Free Live L...</td>\n",
       "      <td>https://www.youtube.com/watch?v=8vjgx7joCqg</td>\n",
       "    </tr>\n",
       "    <tr>\n",
       "      <th>5</th>\n",
       "      <td>모두를 위한 프로그래밍 : 파이썬 강좌소개 - edwith</td>\n",
       "      <td>https://www.edwith.org/pythonforeverybody</td>\n",
       "    </tr>\n",
       "    <tr>\n",
       "      <th>6</th>\n",
       "      <td>파이썬이란? - 코딩의 시작, TCP School</td>\n",
       "      <td>http://tcpschool.com/python/intro</td>\n",
       "    </tr>\n",
       "  </tbody>\n",
       "</table>\n",
       "</div>"
      ],
      "text/plain": [
       "                                               title  \\\n",
       "0                              Welcome to Python.org   \n",
       "1                            파이썬 - 위키백과, 우리 모두의 백과사전   \n",
       "2                                      Python - 나무위키   \n",
       "3                                      01-4 파이썬 설치하기   \n",
       "4  SUB) Why You Should Learn Python | Free Live L...   \n",
       "5                   모두를 위한 프로그래밍 : 파이썬 강좌소개 - edwith   \n",
       "6                        파이썬이란? - 코딩의 시작, TCP School   \n",
       "\n",
       "                                                 URL  \n",
       "0                            https://www.python.org/  \n",
       "1  https://ko.wikipedia.org/wiki/%ED%8C%8C%EC%9D%...  \n",
       "2                         https://namu.wiki/w/Python  \n",
       "3                             https://wikidocs.net/8  \n",
       "4        https://www.youtube.com/watch?v=8vjgx7joCqg  \n",
       "5          https://www.edwith.org/pythonforeverybody  \n",
       "6                  http://tcpschool.com/python/intro  "
      ]
     },
     "execution_count": 46,
     "metadata": {},
     "output_type": "execute_result"
    }
   ],
   "source": [
    "# 2차원 리스트로 저장후 데이타프레임 \n",
    "result_list = []\n",
    "\n",
    "for i in range(len(search_list1)):\n",
    "    result_list.append([search_list1[i], search_list2[i]])\n",
    "\n",
    "df = pd.DataFrame(result_list, columns=['title', 'URL'])    \n",
    "df"
   ]
  },
  {
   "cell_type": "markdown",
   "metadata": {},
   "source": [
    "### 선택자로 찾기 2"
   ]
  },
  {
   "cell_type": "code",
   "execution_count": 58,
   "metadata": {},
   "outputs": [],
   "source": [
    "# 크롬 웹브라우저 실행 => 구글 사이트로 이동 \n",
    "# 검색어 입력 => 검색어 결과 페이지 표시 \n",
    "\n",
    "driver = webdriver.Chrome('chromedriver.exe')\n",
    "time.sleep(2)\n",
    "\n",
    "url = 'http://www.google.com'\n",
    "driver.get(url)\n",
    "\n",
    "time.sleep(2)\n",
    "\n",
    "driver.find_element_by_name('q').send_keys('파이썬')\n",
    "driver.find_element_by_name('q').submit()"
   ]
  },
  {
   "cell_type": "code",
   "execution_count": 60,
   "metadata": {},
   "outputs": [
    {
     "name": "stdout",
     "output_type": "stream",
     "text": [
      "[<selenium.webdriver.remote.webelement.WebElement (session=\"5b34212dce2fb8a95f57634e88705ff0\", element=\"8bb597ca-6ec8-4da1-94cb-e7ce94c3bc24\")>, <selenium.webdriver.remote.webelement.WebElement (session=\"5b34212dce2fb8a95f57634e88705ff0\", element=\"8b72a785-7881-4e76-8c2d-0b56dbff2aee\")>, <selenium.webdriver.remote.webelement.WebElement (session=\"5b34212dce2fb8a95f57634e88705ff0\", element=\"a5d9dfa0-d216-4088-bbed-368368eb85c2\")>, <selenium.webdriver.remote.webelement.WebElement (session=\"5b34212dce2fb8a95f57634e88705ff0\", element=\"29470381-c929-442c-ad15-dac3dc0a73b9\")>, <selenium.webdriver.remote.webelement.WebElement (session=\"5b34212dce2fb8a95f57634e88705ff0\", element=\"abf4f326-d4b5-4d45-a599-9a1a3a6ea2b6\")>, <selenium.webdriver.remote.webelement.WebElement (session=\"5b34212dce2fb8a95f57634e88705ff0\", element=\"2e538052-2320-45e1-984c-e3b9243013e8\")>, <selenium.webdriver.remote.webelement.WebElement (session=\"5b34212dce2fb8a95f57634e88705ff0\", element=\"2b601390-3af5-4392-8288-aca6448dff9d\")>]\n",
      "7\n"
     ]
    }
   ],
   "source": [
    "target = 'div.tF2Cxc > div.yuRUbf'\n",
    "temp_list = driver.find_elements_by_css_selector(target)\n",
    "print(temp_list)\n",
    "print(len(temp_list))"
   ]
  },
  {
   "cell_type": "code",
   "execution_count": 63,
   "metadata": {},
   "outputs": [
    {
     "name": "stdout",
     "output_type": "stream",
     "text": [
      "파이썬 - 위키백과, 우리 모두의 백과사전\n",
      "https://ko.wikipedia.org/wiki/%ED%8C%8C%EC%9D%B4%EC%8D%AC\n"
     ]
    }
   ],
   "source": [
    "#  첫번째 요소의 제목과 하이퍼링크 출력 \n",
    "print(temp_list[1].find_element_by_css_selector('h3').text)\n",
    "print(temp_list[1].find_element_by_css_selector('a').get_attribute('href'))"
   ]
  },
  {
   "cell_type": "code",
   "execution_count": 67,
   "metadata": {},
   "outputs": [],
   "source": [
    "result_list = []\n",
    "for item in temp_list:\n",
    "    title = item.find_element_by_css_selector('h3').text\n",
    "    url = item.find_element_by_css_selector('a').get_attribute('href')\n",
    "    result_list.append([title, url])\n"
   ]
  },
  {
   "cell_type": "code",
   "execution_count": 68,
   "metadata": {},
   "outputs": [
    {
     "data": {
      "text/plain": [
       "[['Welcome to Python.org', 'https://www.python.org/'],\n",
       " ['파이썬 - 위키백과, 우리 모두의 백과사전',\n",
       "  'https://ko.wikipedia.org/wiki/%ED%8C%8C%EC%9D%B4%EC%8D%AC'],\n",
       " ['Python - 나무위키', 'https://namu.wiki/w/Python'],\n",
       " ['01-4 파이썬 설치하기', 'https://wikidocs.net/8'],\n",
       " ['SUB) Why You Should Learn Python | Free Live Lecture',\n",
       "  'https://www.youtube.com/watch?v=8vjgx7joCqg'],\n",
       " ['모두를 위한 프로그래밍 : 파이썬 강좌소개 - edwith',\n",
       "  'https://www.edwith.org/pythonforeverybody'],\n",
       " ['파이썬이란? - 코딩의 시작, TCP School', 'http://tcpschool.com/python/intro']]"
      ]
     },
     "execution_count": 68,
     "metadata": {},
     "output_type": "execute_result"
    }
   ],
   "source": [
    "result_list"
   ]
  },
  {
   "cell_type": "code",
   "execution_count": 70,
   "metadata": {},
   "outputs": [
    {
     "data": {
      "text/html": [
       "<div>\n",
       "<style scoped>\n",
       "    .dataframe tbody tr th:only-of-type {\n",
       "        vertical-align: middle;\n",
       "    }\n",
       "\n",
       "    .dataframe tbody tr th {\n",
       "        vertical-align: top;\n",
       "    }\n",
       "\n",
       "    .dataframe thead th {\n",
       "        text-align: right;\n",
       "    }\n",
       "</style>\n",
       "<table border=\"1\" class=\"dataframe\">\n",
       "  <thead>\n",
       "    <tr style=\"text-align: right;\">\n",
       "      <th></th>\n",
       "      <th>title</th>\n",
       "      <th>url</th>\n",
       "    </tr>\n",
       "  </thead>\n",
       "  <tbody>\n",
       "    <tr>\n",
       "      <th>0</th>\n",
       "      <td>Welcome to Python.org</td>\n",
       "      <td>https://www.python.org/</td>\n",
       "    </tr>\n",
       "    <tr>\n",
       "      <th>1</th>\n",
       "      <td>파이썬 - 위키백과, 우리 모두의 백과사전</td>\n",
       "      <td>https://ko.wikipedia.org/wiki/%ED%8C%8C%EC%9D%...</td>\n",
       "    </tr>\n",
       "    <tr>\n",
       "      <th>2</th>\n",
       "      <td>Python - 나무위키</td>\n",
       "      <td>https://namu.wiki/w/Python</td>\n",
       "    </tr>\n",
       "    <tr>\n",
       "      <th>3</th>\n",
       "      <td>01-4 파이썬 설치하기</td>\n",
       "      <td>https://wikidocs.net/8</td>\n",
       "    </tr>\n",
       "    <tr>\n",
       "      <th>4</th>\n",
       "      <td>SUB) Why You Should Learn Python | Free Live L...</td>\n",
       "      <td>https://www.youtube.com/watch?v=8vjgx7joCqg</td>\n",
       "    </tr>\n",
       "    <tr>\n",
       "      <th>5</th>\n",
       "      <td>모두를 위한 프로그래밍 : 파이썬 강좌소개 - edwith</td>\n",
       "      <td>https://www.edwith.org/pythonforeverybody</td>\n",
       "    </tr>\n",
       "    <tr>\n",
       "      <th>6</th>\n",
       "      <td>파이썬이란? - 코딩의 시작, TCP School</td>\n",
       "      <td>http://tcpschool.com/python/intro</td>\n",
       "    </tr>\n",
       "  </tbody>\n",
       "</table>\n",
       "</div>"
      ],
      "text/plain": [
       "                                               title  \\\n",
       "0                              Welcome to Python.org   \n",
       "1                            파이썬 - 위키백과, 우리 모두의 백과사전   \n",
       "2                                      Python - 나무위키   \n",
       "3                                      01-4 파이썬 설치하기   \n",
       "4  SUB) Why You Should Learn Python | Free Live L...   \n",
       "5                   모두를 위한 프로그래밍 : 파이썬 강좌소개 - edwith   \n",
       "6                        파이썬이란? - 코딩의 시작, TCP School   \n",
       "\n",
       "                                                 url  \n",
       "0                            https://www.python.org/  \n",
       "1  https://ko.wikipedia.org/wiki/%ED%8C%8C%EC%9D%...  \n",
       "2                         https://namu.wiki/w/Python  \n",
       "3                             https://wikidocs.net/8  \n",
       "4        https://www.youtube.com/watch?v=8vjgx7joCqg  \n",
       "5          https://www.edwith.org/pythonforeverybody  \n",
       "6                  http://tcpschool.com/python/intro  "
      ]
     },
     "execution_count": 70,
     "metadata": {},
     "output_type": "execute_result"
    }
   ],
   "source": [
    "df = pd.DataFrame(result_list, columns=['title', 'url'])\n",
    "df"
   ]
  },
  {
   "cell_type": "markdown",
   "metadata": {},
   "source": [
    "# 여러 페이지 저장하기 "
   ]
  },
  {
   "cell_type": "code",
   "execution_count": 75,
   "metadata": {},
   "outputs": [],
   "source": [
    "# 크롬 웹브라우저 실행 => 구글 사이트로 이동 \n",
    "# 검색어 입력 => 검색어 결과 페이지 표시 \n",
    "\n",
    "driver = webdriver.Chrome('chromedriver.exe')\n",
    "time.sleep(2)\n",
    "\n",
    "url = 'http://www.google.com'\n",
    "driver.get(url)\n",
    "\n",
    "time.sleep(2)\n",
    "\n",
    "driver.find_element_by_name('q').send_keys('신사와아가씨')\n",
    "driver.find_element_by_name('q').submit()"
   ]
  },
  {
   "cell_type": "code",
   "execution_count": 76,
   "metadata": {},
   "outputs": [
    {
     "name": "stdout",
     "output_type": "stream",
     "text": [
      "Page = 1\n",
      "Page = 2\n",
      "Page = 3\n"
     ]
    }
   ],
   "source": [
    "search_list = []\n",
    "target = 'div.tF2Cxc > div.yuRUbf'\n",
    "\n",
    "page = 0 \n",
    "last_page = 3\n",
    "\n",
    "while (page < last_page) :\n",
    "    print(f'Page = {page+1}')\n",
    "    temp_list = driver.find_elements_by_css_selector(target)\n",
    "    \n",
    "    for item in temp_list:\n",
    "        title = item.find_element_by_css_selector('h3').text\n",
    "        url = item.find_element_by_css_selector('a').get_attribute('href')\n",
    "        search_list.append([title, url])\n",
    "    \n",
    "    # 다음 버튼 요소 선택 후 클릭 \n",
    "    driver.find_element_by_css_selector('#pnnext').click()\n",
    "    time.sleep(2)\n",
    "    page += 1\n",
    "    "
   ]
  },
  {
   "cell_type": "code",
   "execution_count": 73,
   "metadata": {},
   "outputs": [
    {
     "data": {
      "text/plain": [
       "27"
      ]
     },
     "execution_count": 73,
     "metadata": {},
     "output_type": "execute_result"
    }
   ],
   "source": [
    "len(search_list)"
   ]
  },
  {
   "cell_type": "code",
   "execution_count": 74,
   "metadata": {},
   "outputs": [
    {
     "data": {
      "text/html": [
       "<div>\n",
       "<style scoped>\n",
       "    .dataframe tbody tr th:only-of-type {\n",
       "        vertical-align: middle;\n",
       "    }\n",
       "\n",
       "    .dataframe tbody tr th {\n",
       "        vertical-align: top;\n",
       "    }\n",
       "\n",
       "    .dataframe thead th {\n",
       "        text-align: right;\n",
       "    }\n",
       "</style>\n",
       "<table border=\"1\" class=\"dataframe\">\n",
       "  <thead>\n",
       "    <tr style=\"text-align: right;\">\n",
       "      <th></th>\n",
       "      <th>title</th>\n",
       "      <th>url</th>\n",
       "    </tr>\n",
       "  </thead>\n",
       "  <tbody>\n",
       "    <tr>\n",
       "      <th>0</th>\n",
       "      <td>신사와 아가씨 | 디지털 KBS</td>\n",
       "      <td>https://program.kbs.co.kr/2tv/drama/youngladyg...</td>\n",
       "    </tr>\n",
       "    <tr>\n",
       "      <th>1</th>\n",
       "      <td>주말드라마 신사와 아가씨 - KBS</td>\n",
       "      <td>https://vod.kbs.co.kr/m/index.html?source=epis...</td>\n",
       "    </tr>\n",
       "    <tr>\n",
       "      <th>2</th>\n",
       "      <td>신사와 아가씨 - 위키백과, 우리 모두의 백과사전</td>\n",
       "      <td>https://ko.wikipedia.org/wiki/%EC%8B%A0%EC%82%...</td>\n",
       "    </tr>\n",
       "    <tr>\n",
       "      <th>3</th>\n",
       "      <td>신사와 아가씨 - 나무위키</td>\n",
       "      <td>https://namu.wiki/w/%EC%8B%A0%EC%82%AC%EC%99%8...</td>\n",
       "    </tr>\n",
       "    <tr>\n",
       "      <th>4</th>\n",
       "      <td>주말드라마 '신사와 아가씨' 7·8회 줄거리, 이종원 가족을 지켜 ...</td>\n",
       "      <td>http://www.lecturernews.com/news/articleView.h...</td>\n",
       "    </tr>\n",
       "    <tr>\n",
       "      <th>5</th>\n",
       "      <td>'기생충' 서사 빌려와 신데렐라 판타지로 바꿔놓은 '신사와 아가씨'</td>\n",
       "      <td>https://www.entermedia.co.kr/news/articleView....</td>\n",
       "    </tr>\n",
       "    <tr>\n",
       "      <th>6</th>\n",
       "      <td>'신사와 아가씨' 등장인물·몇부작·OST·인물관계도 총정리</td>\n",
       "      <td>https://www.gukjenews.com/news/articleView.htm...</td>\n",
       "    </tr>\n",
       "    <tr>\n",
       "      <th>7</th>\n",
       "      <td>[#신사와아가씨] '아들을 아들이라 부르지 못하고…' 친아들 옆 ...</td>\n",
       "      <td>https://www.youtube.com/watch?v=vFSRX-nYB3s</td>\n",
       "    </tr>\n",
       "    <tr>\n",
       "      <th>8</th>\n",
       "      <td>[9회 예고] 세종이가 없어졌다고요!?.. [신사와 아가씨] | KBS 방송</td>\n",
       "      <td>https://www.youtube.com/watch?v=IFt3U_SYbSw</td>\n",
       "    </tr>\n",
       "    <tr>\n",
       "      <th>9</th>\n",
       "      <td>'신사와 아가씨' 몇부작·등장인물·인물관계도·OST는? - 국제뉴스</td>\n",
       "      <td>https://www.gukjenews.com/news/articleView.htm...</td>\n",
       "    </tr>\n",
       "    <tr>\n",
       "      <th>10</th>\n",
       "      <td>'신사와 아가씨' 지현우, 연기력 논란 와글와글 왜? - 네이트 뉴스</td>\n",
       "      <td>https://news.nate.com/view/20211011n14829</td>\n",
       "    </tr>\n",
       "    <tr>\n",
       "      <th>11</th>\n",
       "      <td>'신사와 아가씨' 지현우, 이세희 손 잡았다…시청률 30% 목전</td>\n",
       "      <td>https://m.hankookilbo.com/News/Read/A202110180...</td>\n",
       "    </tr>\n",
       "    <tr>\n",
       "      <th>12</th>\n",
       "      <td>신사와 아가씨 6화 다시보기</td>\n",
       "      <td>https://noonoo.tv/drama/2944</td>\n",
       "    </tr>\n",
       "    <tr>\n",
       "      <th>13</th>\n",
       "      <td>`신사와 아가씨` 지현우 이세희 핑크빛 로맨스…시청률 30% 눈앞</td>\n",
       "      <td>https://www.mk.co.kr/star/broadcasting-service...</td>\n",
       "    </tr>\n",
       "    <tr>\n",
       "      <th>14</th>\n",
       "      <td>'신사와 아가씨' 지현우·이세희, 놀이동산 데이트? 맞잡은 손 [N컷]</td>\n",
       "      <td>https://moneys.mt.co.kr/news/mwView.php?no=202...</td>\n",
       "    </tr>\n",
       "    <tr>\n",
       "      <th>15</th>\n",
       "      <td>'신사와 아가씨' 이휘향-차화연, 알고보니 40년 전 절친 ... - Daum</td>\n",
       "      <td>https://v.daum.net/v/20211017204510208</td>\n",
       "    </tr>\n",
       "    <tr>\n",
       "      <th>16</th>\n",
       "      <td>신사와 아가씨 8회 2021-10-17 다시보기 - 호박티비</td>\n",
       "      <td>https://l70.hobaktv.xyz/show/drama/34207/%EC%8...</td>\n",
       "    </tr>\n",
       "    <tr>\n",
       "      <th>17</th>\n",
       "      <td>[SE 현장]'신사와 아가씨' 14살 연상도 괜찮아요…유쾌한 명랑 ...</td>\n",
       "      <td>https://www.sedaily.com/NewsVIew/22RL8YZIXS</td>\n",
       "    </tr>\n",
       "    <tr>\n",
       "      <th>18</th>\n",
       "      <td>'신사와 아가씨' 이일화, 딸 이세희를 바라보는 아련한 눈빛</td>\n",
       "      <td>http://www.onews.tv/news/articleView.html?idxn...</td>\n",
       "    </tr>\n",
       "    <tr>\n",
       "      <th>19</th>\n",
       "      <td>'신사와아가씨' 이세희의 친엄마 나타났다! 지현우와 친한 누나</td>\n",
       "      <td>https://mtn.co.kr/newscenter/news_viewer.mtn?g...</td>\n",
       "    </tr>\n",
       "    <tr>\n",
       "      <th>20</th>\n",
       "      <td>KBS 2TV 새 주말극 '신사와 아가씨' 22.7％ 출발 | 연합뉴스</td>\n",
       "      <td>https://www.yna.co.kr/view/AKR20210926011200005</td>\n",
       "    </tr>\n",
       "    <tr>\n",
       "      <th>21</th>\n",
       "      <td>신사와 아가씨 인물관계도 관심...몇부작일까? - 금강일보</td>\n",
       "      <td>http://www.ggilbo.com/news/articleView.html?id...</td>\n",
       "    </tr>\n",
       "    <tr>\n",
       "      <th>22</th>\n",
       "      <td>'신사와 아가씨' 시청률 26.5%… 임영웅 삽입곡 덕? - 여성조선</td>\n",
       "      <td>https://woman.chosun.com/mobile/news/view.asp?...</td>\n",
       "    </tr>\n",
       "    <tr>\n",
       "      <th>23</th>\n",
       "      <td>'신사와아가씨' 왕빛나, 실연 하와이 행…박하나 윤지숙 - 톱스타 ...</td>\n",
       "      <td>http://www.topstarnews.net/news/articleView.ht...</td>\n",
       "    </tr>\n",
       "    <tr>\n",
       "      <th>24</th>\n",
       "      <td>'신사와 아가씨' 안우연·윤진이, 차화연 등장에 일촉즉발 위기</td>\n",
       "      <td>https://www.edaily.co.kr/news/read?newsId=0112...</td>\n",
       "    </tr>\n",
       "    <tr>\n",
       "      <th>25</th>\n",
       "      <td>신사와 아가씨 | Rakuten Viki</td>\n",
       "      <td>https://www.viki.com/tv/38057c-young-lady-and-...</td>\n",
       "    </tr>\n",
       "    <tr>\n",
       "      <th>26</th>\n",
       "      <td>`신흥 시청률 여신` 이세희, `신사와 아가씨`서 `슬픔+코믹` 눈물 ...</td>\n",
       "      <td>https://www.wowtv.co.kr/NewsCenter/News/Read?a...</td>\n",
       "    </tr>\n",
       "  </tbody>\n",
       "</table>\n",
       "</div>"
      ],
      "text/plain": [
       "                                          title  \\\n",
       "0                             신사와 아가씨 | 디지털 KBS   \n",
       "1                           주말드라마 신사와 아가씨 - KBS   \n",
       "2                   신사와 아가씨 - 위키백과, 우리 모두의 백과사전   \n",
       "3                                신사와 아가씨 - 나무위키   \n",
       "4      주말드라마 '신사와 아가씨' 7·8회 줄거리, 이종원 가족을 지켜 ...   \n",
       "5         '기생충' 서사 빌려와 신데렐라 판타지로 바꿔놓은 '신사와 아가씨'   \n",
       "6              '신사와 아가씨' 등장인물·몇부작·OST·인물관계도 총정리   \n",
       "7       [#신사와아가씨] '아들을 아들이라 부르지 못하고…' 친아들 옆 ...   \n",
       "8    [9회 예고] 세종이가 없어졌다고요!?.. [신사와 아가씨] | KBS 방송   \n",
       "9         '신사와 아가씨' 몇부작·등장인물·인물관계도·OST는? - 국제뉴스   \n",
       "10       '신사와 아가씨' 지현우, 연기력 논란 와글와글 왜? - 네이트 뉴스   \n",
       "11          '신사와 아가씨' 지현우, 이세희 손 잡았다…시청률 30% 목전   \n",
       "12                              신사와 아가씨 6화 다시보기   \n",
       "13         `신사와 아가씨` 지현우 이세희 핑크빛 로맨스…시청률 30% 눈앞   \n",
       "14      '신사와 아가씨' 지현우·이세희, 놀이동산 데이트? 맞잡은 손 [N컷]   \n",
       "15  '신사와 아가씨' 이휘향-차화연, 알고보니 40년 전 절친 ... - Daum   \n",
       "16            신사와 아가씨 8회 2021-10-17 다시보기 - 호박티비   \n",
       "17     [SE 현장]'신사와 아가씨' 14살 연상도 괜찮아요…유쾌한 명랑 ...   \n",
       "18            '신사와 아가씨' 이일화, 딸 이세희를 바라보는 아련한 눈빛   \n",
       "19           '신사와아가씨' 이세희의 친엄마 나타났다! 지현우와 친한 누나   \n",
       "20      KBS 2TV 새 주말극 '신사와 아가씨' 22.7％ 출발 | 연합뉴스   \n",
       "21             신사와 아가씨 인물관계도 관심...몇부작일까? - 금강일보   \n",
       "22       '신사와 아가씨' 시청률 26.5%… 임영웅 삽입곡 덕? - 여성조선   \n",
       "23     '신사와아가씨' 왕빛나, 실연 하와이 행…박하나 윤지숙 - 톱스타 ...   \n",
       "24           '신사와 아가씨' 안우연·윤진이, 차화연 등장에 일촉즉발 위기   \n",
       "25                       신사와 아가씨 | Rakuten Viki   \n",
       "26   `신흥 시청률 여신` 이세희, `신사와 아가씨`서 `슬픔+코믹` 눈물 ...   \n",
       "\n",
       "                                                  url  \n",
       "0   https://program.kbs.co.kr/2tv/drama/youngladyg...  \n",
       "1   https://vod.kbs.co.kr/m/index.html?source=epis...  \n",
       "2   https://ko.wikipedia.org/wiki/%EC%8B%A0%EC%82%...  \n",
       "3   https://namu.wiki/w/%EC%8B%A0%EC%82%AC%EC%99%8...  \n",
       "4   http://www.lecturernews.com/news/articleView.h...  \n",
       "5   https://www.entermedia.co.kr/news/articleView....  \n",
       "6   https://www.gukjenews.com/news/articleView.htm...  \n",
       "7         https://www.youtube.com/watch?v=vFSRX-nYB3s  \n",
       "8         https://www.youtube.com/watch?v=IFt3U_SYbSw  \n",
       "9   https://www.gukjenews.com/news/articleView.htm...  \n",
       "10          https://news.nate.com/view/20211011n14829  \n",
       "11  https://m.hankookilbo.com/News/Read/A202110180...  \n",
       "12                       https://noonoo.tv/drama/2944  \n",
       "13  https://www.mk.co.kr/star/broadcasting-service...  \n",
       "14  https://moneys.mt.co.kr/news/mwView.php?no=202...  \n",
       "15             https://v.daum.net/v/20211017204510208  \n",
       "16  https://l70.hobaktv.xyz/show/drama/34207/%EC%8...  \n",
       "17        https://www.sedaily.com/NewsVIew/22RL8YZIXS  \n",
       "18  http://www.onews.tv/news/articleView.html?idxn...  \n",
       "19  https://mtn.co.kr/newscenter/news_viewer.mtn?g...  \n",
       "20    https://www.yna.co.kr/view/AKR20210926011200005  \n",
       "21  http://www.ggilbo.com/news/articleView.html?id...  \n",
       "22  https://woman.chosun.com/mobile/news/view.asp?...  \n",
       "23  http://www.topstarnews.net/news/articleView.ht...  \n",
       "24  https://www.edaily.co.kr/news/read?newsId=0112...  \n",
       "25  https://www.viki.com/tv/38057c-young-lady-and-...  \n",
       "26  https://www.wowtv.co.kr/NewsCenter/News/Read?a...  "
      ]
     },
     "execution_count": 74,
     "metadata": {},
     "output_type": "execute_result"
    }
   ],
   "source": [
    "df = pd.DataFrame(search_list, columns=['title', 'url'])\n",
    "df"
   ]
  },
  {
   "cell_type": "markdown",
   "metadata": {},
   "source": [
    "# 퀴즈 : 검색된 전체 페이지 저장하기 "
   ]
  },
  {
   "cell_type": "code",
   "execution_count": 80,
   "metadata": {},
   "outputs": [
    {
     "name": "stdout",
     "output_type": "stream",
     "text": [
      "Page = 1\n",
      "Page = 2\n",
      "Page = 3\n",
      "Page = 4\n",
      "Page = 5\n",
      "Page = 6\n",
      "Page = 7\n",
      "Page = 8\n",
      "Page = 9\n",
      "86\n"
     ]
    }
   ],
   "source": [
    "# 1)\n",
    "# 크롬 웹브라우저 실행 => 구글 사이트로 이동 \n",
    "# 검색어 입력 => 검색어 결과 페이지 표시 \n",
    "\n",
    "driver = webdriver.Chrome('chromedriver.exe')\n",
    "time.sleep(2)\n",
    "\n",
    "url = 'http://www.google.com'\n",
    "driver.get(url)\n",
    "\n",
    "time.sleep(2)\n",
    "\n",
    "driver.find_element_by_name('q').send_keys('신사와아가씨')\n",
    "driver.find_element_by_name('q').submit()\n",
    "\n",
    "\n",
    "# 2) 검색 결과 저장 \n",
    "search_list = []\n",
    "target = 'div.tF2Cxc > div.yuRUbf'\n",
    "\n",
    "page = 0 \n",
    "\n",
    "\n",
    "while True:\n",
    "    print(f'Page = {page+1}')\n",
    "    temp_list = driver.find_elements_by_css_selector(target)\n",
    "    \n",
    "    for item in temp_list:\n",
    "        title = item.find_element_by_css_selector('h3').text\n",
    "        url = item.find_element_by_css_selector('a').get_attribute('href')\n",
    "        search_list.append([title, url])\n",
    "    \n",
    "    if driver.find_elements_by_css_selector('#pnnext'):\n",
    "        # 다음 버튼 요소 선택 후 클릭 \n",
    "        driver.find_element_by_css_selector('#pnnext').click()\n",
    "        time.sleep(2)\n",
    "        page += 1\n",
    "    \n",
    "    else:\n",
    "        break\n",
    "    \n",
    "    \n",
    "print(len(search_list))\n"
   ]
  },
  {
   "cell_type": "code",
   "execution_count": 78,
   "metadata": {},
   "outputs": [
    {
     "data": {
      "text/html": [
       "<div>\n",
       "<style scoped>\n",
       "    .dataframe tbody tr th:only-of-type {\n",
       "        vertical-align: middle;\n",
       "    }\n",
       "\n",
       "    .dataframe tbody tr th {\n",
       "        vertical-align: top;\n",
       "    }\n",
       "\n",
       "    .dataframe thead th {\n",
       "        text-align: right;\n",
       "    }\n",
       "</style>\n",
       "<table border=\"1\" class=\"dataframe\">\n",
       "  <thead>\n",
       "    <tr style=\"text-align: right;\">\n",
       "      <th></th>\n",
       "      <th>title</th>\n",
       "      <th>url</th>\n",
       "    </tr>\n",
       "  </thead>\n",
       "  <tbody>\n",
       "    <tr>\n",
       "      <th>0</th>\n",
       "      <td>신사와 아가씨 | 디지털 KBS</td>\n",
       "      <td>https://program.kbs.co.kr/2tv/drama/youngladyg...</td>\n",
       "    </tr>\n",
       "    <tr>\n",
       "      <th>1</th>\n",
       "      <td>신사와 아가씨 - 나무위키</td>\n",
       "      <td>https://namu.wiki/w/%EC%8B%A0%EC%82%AC%EC%99%8...</td>\n",
       "    </tr>\n",
       "    <tr>\n",
       "      <th>2</th>\n",
       "      <td>신사와 아가씨 - 위키백과, 우리 모두의 백과사전</td>\n",
       "      <td>https://ko.wikipedia.org/wiki/%EC%8B%A0%EC%82%...</td>\n",
       "    </tr>\n",
       "    <tr>\n",
       "      <th>3</th>\n",
       "      <td>'신사와 아가씨' 몇부작·등장인물·인물관계도·OST는? - 국제뉴스</td>\n",
       "      <td>https://www.gukjenews.com/news/articleView.htm...</td>\n",
       "    </tr>\n",
       "    <tr>\n",
       "      <th>4</th>\n",
       "      <td>주말드라마 '신사와 아가씨' 7·8회 줄거리, 이종원 가족을 지켜 ...</td>\n",
       "      <td>http://www.lecturernews.com/news/articleView.h...</td>\n",
       "    </tr>\n",
       "    <tr>\n",
       "      <th>...</th>\n",
       "      <td>...</td>\n",
       "      <td>...</td>\n",
       "    </tr>\n",
       "    <tr>\n",
       "      <th>81</th>\n",
       "      <td>신사와 아가씨 삽화 1 다시보기 - 마루티비</td>\n",
       "      <td>https://www1.marutv.io/video/%EC%8B%A0%EC%82%A...</td>\n",
       "    </tr>\n",
       "    <tr>\n",
       "      <th>82</th>\n",
       "      <td>악마신사와 달콤한 가정부 2(완결) - Google 도서 검색결과</td>\n",
       "      <td>https://books.google.co.kr/books?id=aAw4DwAAQB...</td>\n",
       "    </tr>\n",
       "    <tr>\n",
       "      <th>83</th>\n",
       "      <td>악마신사와 달콤한 가정부 1 - Google 도서 검색결과</td>\n",
       "      <td>https://books.google.co.kr/books?id=Zgw4DwAAQB...</td>\n",
       "    </tr>\n",
       "    <tr>\n",
       "      <th>84</th>\n",
       "      <td>노래의 책: 열린책들 세계문학 234 - Google 도서 검색결과</td>\n",
       "      <td>https://books.google.co.kr/books?id=TuR_DQAAQB...</td>\n",
       "    </tr>\n",
       "    <tr>\n",
       "      <th>85</th>\n",
       "      <td>요마와 아가씨 1 - Google 도서 검색결과</td>\n",
       "      <td>https://books.google.co.kr/books?id=vLoREAAAQB...</td>\n",
       "    </tr>\n",
       "  </tbody>\n",
       "</table>\n",
       "<p>86 rows × 2 columns</p>\n",
       "</div>"
      ],
      "text/plain": [
       "                                       title  \\\n",
       "0                          신사와 아가씨 | 디지털 KBS   \n",
       "1                             신사와 아가씨 - 나무위키   \n",
       "2                신사와 아가씨 - 위키백과, 우리 모두의 백과사전   \n",
       "3      '신사와 아가씨' 몇부작·등장인물·인물관계도·OST는? - 국제뉴스   \n",
       "4   주말드라마 '신사와 아가씨' 7·8회 줄거리, 이종원 가족을 지켜 ...   \n",
       "..                                       ...   \n",
       "81                  신사와 아가씨 삽화 1 다시보기 - 마루티비   \n",
       "82      악마신사와 달콤한 가정부 2(완결) - Google 도서 검색결과   \n",
       "83          악마신사와 달콤한 가정부 1 - Google 도서 검색결과   \n",
       "84     노래의 책: 열린책들 세계문학 234 - Google 도서 검색결과   \n",
       "85                요마와 아가씨 1 - Google 도서 검색결과   \n",
       "\n",
       "                                                  url  \n",
       "0   https://program.kbs.co.kr/2tv/drama/youngladyg...  \n",
       "1   https://namu.wiki/w/%EC%8B%A0%EC%82%AC%EC%99%8...  \n",
       "2   https://ko.wikipedia.org/wiki/%EC%8B%A0%EC%82%...  \n",
       "3   https://www.gukjenews.com/news/articleView.htm...  \n",
       "4   http://www.lecturernews.com/news/articleView.h...  \n",
       "..                                                ...  \n",
       "81  https://www1.marutv.io/video/%EC%8B%A0%EC%82%A...  \n",
       "82  https://books.google.co.kr/books?id=aAw4DwAAQB...  \n",
       "83  https://books.google.co.kr/books?id=Zgw4DwAAQB...  \n",
       "84  https://books.google.co.kr/books?id=TuR_DQAAQB...  \n",
       "85  https://books.google.co.kr/books?id=vLoREAAAQB...  \n",
       "\n",
       "[86 rows x 2 columns]"
      ]
     },
     "execution_count": 78,
     "metadata": {},
     "output_type": "execute_result"
    }
   ],
   "source": [
    "df = pd.DataFrame(search_list, columns=['title', 'url'])\n",
    "df"
   ]
  },
  {
   "cell_type": "code",
   "execution_count": 79,
   "metadata": {},
   "outputs": [],
   "source": [
    "df.to_csv('output/drama.csv', index=False)"
   ]
  },
  {
   "cell_type": "code",
   "execution_count": null,
   "metadata": {},
   "outputs": [],
   "source": [
    "def search_drama():\n",
    "    driver = webdriver.Chrome(executable_path='./chromedriver')\n",
    "    time.sleep(2)\n",
    "\n",
    "    url = 'http://google.com'\n",
    "    driver.get(url)\n",
    "\n",
    "    time.sleep(2)\n",
    "\n",
    "    driver.find_element_by_name('q').send_keys('신사와아가씨')\n",
    "    driver.find_element_by_name('q').submit()\n",
    "\n",
    "    search_list = []\n",
    "    page = 0\n",
    "    target = 'div.tF2Cxc'\n",
    "\n",
    "    while True:\n",
    "        page += 1\n",
    "        print(f'page: {page}')\n",
    "        temp_list = driver.find_elements_by_css_selector(target)\n",
    "\n",
    "        for item in temp_list:\n",
    "            title = item.find_element_by_css_selector('h3').text\n",
    "            url = item.find_element_by_css_selector('a').get_attribute('href')\n",
    "            search_list.append([title, url])\n",
    "        \n",
    "        time.sleep(2)\n",
    "        \n",
    "        if driver.find_elements_by_css_selector('td.d6cvqb')[1].text != '':\n",
    "            driver.find_element_by_css_selector('#pnnext').click()\n",
    "        else:\n",
    "            break\n",
    "        \n",
    "    df = pd.DataFrame(search_list, columns = ['title', 'url'])\n",
    "    df\n",
    "    driver.close()\n",
    "    return df\n",
    "\n"
   ]
  },
  {
   "cell_type": "code",
   "execution_count": null,
   "metadata": {},
   "outputs": [],
   "source": []
  },
  {
   "cell_type": "code",
   "execution_count": null,
   "metadata": {},
   "outputs": [],
   "source": []
  },
  {
   "cell_type": "code",
   "execution_count": null,
   "metadata": {},
   "outputs": [],
   "source": []
  },
  {
   "cell_type": "code",
   "execution_count": null,
   "metadata": {},
   "outputs": [],
   "source": []
  }
 ],
 "metadata": {
  "kernelspec": {
   "display_name": "Python 3",
   "language": "python",
   "name": "python3"
  },
  "language_info": {
   "codemirror_mode": {
    "name": "ipython",
    "version": 3
   },
   "file_extension": ".py",
   "mimetype": "text/x-python",
   "name": "python",
   "nbconvert_exporter": "python",
   "pygments_lexer": "ipython3",
   "version": "3.7.3"
  }
 },
 "nbformat": 4,
 "nbformat_minor": 4
}
