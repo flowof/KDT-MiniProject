{
 "cells": [
  {
   "cell_type": "markdown",
   "metadata": {},
   "source": [
    "# 구글 이미지 저장하기 \n",
    "\n",
    "- 더보기 버튼 클릭시 다른 추가 이미지가 로딩\n",
    "- 더 이상 표시할 콘텐츠가 없습니다. 메세지가 나오면 검색 페이지 끝"
   ]
  },
  {
   "cell_type": "code",
   "execution_count": 1,
   "metadata": {},
   "outputs": [],
   "source": [
    "# 1) 관련 모듈 임포트 \n",
    "import pandas as pd\n",
    "import time\n",
    "from selenium import webdriver\n",
    "# from selenium.webdriver.chrome.service import Service\n",
    "\n",
    "# 경고 메세지 출력 X\n",
    "import warnings\n",
    "warnings.filterwarnings(action='ignore')\n",
    "\n",
    "import urllib.request\n",
    "import os"
   ]
  },
  {
   "cell_type": "markdown",
   "metadata": {},
   "source": [
    "### 웹상의 이미지 저장하기 \n",
    "\n",
    "- urllib.request.urlretrieve(웹상이미지경로, 저장경로)"
   ]
  },
  {
   "cell_type": "code",
   "execution_count": 2,
   "metadata": {},
   "outputs": [
    {
     "data": {
      "text/plain": [
       "('output/flower.jpg', <http.client.HTTPMessage at 0x21a23af0f70>)"
      ]
     },
     "execution_count": 2,
     "metadata": {},
     "output_type": "execute_result"
    }
   ],
   "source": [
    "imgURL = 'https://encrypted-tbn0.gstatic.com/images?q=tbn:ANd9GcTy9FGNrLLPhRgIeM46AQpL7FDvLyjs_FS8ug&usqp=CAU'\n",
    "targetPath = 'output/flower.jpg'\n",
    "urllib.request.urlretrieve(imgURL, targetPath)"
   ]
  },
  {
   "cell_type": "code",
   "execution_count": 6,
   "metadata": {},
   "outputs": [
    {
     "name": "stdout",
     "output_type": "stream",
     "text": [
      " C 드라이브의 볼륨에는 이름이 없습니다.\n",
      " 볼륨 일련 번호: DC29-8D46\n",
      "\n",
      " C:\\workspace2110\\scrap\\output 디렉터리\n",
      "\n",
      "2021-10-18  오후 04:13    <DIR>          .\n",
      "2021-10-18  오후 04:13    <DIR>          ..\n",
      "2021-10-14  오후 02:46    <DIR>          .ipynb_checkpoints\n",
      "2021-10-15  오전 10:31             3,040 alexa_topSites.csv\n",
      "2021-10-15  오전 10:40               668 alexa_topSites10.csv\n",
      "2021-10-15  오전 10:51               165 alexa_topSites5.csv\n",
      "2021-10-14  오후 02:47           510,584 alladin.html\n",
      "2021-10-14  오후 02:47           392,680 alladin2.html\n",
      "2021-10-14  오후 05:22            12,432 color.csv\n",
      "2021-10-18  오후 03:50            12,946 drama.csv\n",
      "2021-10-18  오후 04:13             9,480 flower.jpg\n",
      "2021-10-15  오후 03:53            14,438 movie_kid.csv\n",
      "2021-10-15  오후 02:04               986 naverWebtoon10.csv\n",
      "2021-10-15  오후 02:05               895 naverWebtoon10_cp949.csv\n",
      "2021-10-14  오후 02:09           565,325 yes24.html\n",
      "2021-10-15  오전 11:48             1,739 yes24_bestseller.csv\n",
      "2021-10-18  오전 11:22           164,090 yes24bestseller.csv\n",
      "2021-10-18  오전 11:22           164,090 yes24bestseller_20211018.csv\n",
      "              15개 파일           1,853,558 바이트\n",
      "               3개 디렉터리  18,260,127,744 바이트 남음\n"
     ]
    }
   ],
   "source": [
    "ls output"
   ]
  },
  {
   "cell_type": "markdown",
   "metadata": {},
   "source": [
    "# 구글 이미지 검색 사이트 이용하기 "
   ]
  },
  {
   "cell_type": "code",
   "execution_count": 23,
   "metadata": {},
   "outputs": [],
   "source": [
    "# 크롬 웹브라우저 실행 => 구글 이미지 검색 사이트로 이동 \n",
    "# 검색어 입력 => 검색어 결과 페이지 표시 \n",
    "\n",
    "driver = webdriver.Chrome('chromedriver.exe')\n",
    "time.sleep(2)\n",
    "\n",
    "url = 'https://www.google.co.kr/imghp?hl=ko&ogbl'\n",
    "driver.get(url)\n",
    "\n",
    "time.sleep(2)\n",
    "\n",
    "driver.find_element_by_name('q').send_keys('노고단')\n",
    "driver.find_element_by_name('q').submit()"
   ]
  },
  {
   "cell_type": "markdown",
   "metadata": {},
   "source": [
    "#### 자바스크립트 연동 \n",
    "\n",
    "- driver.execute_script(JS문법) "
   ]
  },
  {
   "cell_type": "code",
   "execution_count": 8,
   "metadata": {},
   "outputs": [],
   "source": [
    "# 셀레니움에서 자바스크립트 연동 \n",
    "driver.execute_script('console.log(\"Hello world\")')"
   ]
  },
  {
   "cell_type": "code",
   "execution_count": 9,
   "metadata": {},
   "outputs": [],
   "source": [
    "# 경고창 발생 \n",
    "driver.execute_script('window.alert(\"Hello Python\")')"
   ]
  },
  {
   "cell_type": "code",
   "execution_count": 3,
   "metadata": {},
   "outputs": [
    {
     "name": "stdout",
     "output_type": "stream",
     "text": [
      "3560\n",
      "6956\n",
      "11767\n",
      "17584\n",
      "23650\n",
      "23731\n",
      "34509\n"
     ]
    }
   ],
   "source": [
    "# 크롬 웹브라우저 실행 => 구글 이미지 검색 사이트로 이동 \n",
    "# 검색어 입력 => 검색어 결과 페이지 표시 \n",
    "\n",
    "driver = webdriver.Chrome('chromedriver.exe')\n",
    "time.sleep(2)\n",
    "\n",
    "url = 'https://www.google.co.kr/imghp?hl=ko&ogbl'\n",
    "driver.get(url)\n",
    "\n",
    "time.sleep(2)\n",
    "\n",
    "driver.find_element_by_name('q').send_keys('아네모네')\n",
    "driver.find_element_by_name('q').submit()\n",
    "\n",
    "\n",
    "\n",
    "# 웹브라우저의 스크롤바 컨트롤 \n",
    "\n",
    "# 스크롤링 타임 지정 \n",
    "SCROLL_PAUSE_TIME  = 1\n",
    "\n",
    "# 웹브라우저의 현재 전체 스크롤바 높이 반환 \n",
    "last_height = driver.execute_script('return document.body.scrollHeight')\n",
    "print(last_height)\n",
    "\n",
    "# 자바스크립트 스크롤 이동 합수 \n",
    "# window.scrollTo(start, end)\n",
    "\n",
    "while True:\n",
    "    driver.execute_script('window.scrollTo(0, document.body.scrollHeight)')\n",
    "    \n",
    "    time.sleep(SCROLL_PAUSE_TIME)\n",
    "    \n",
    "    new_height = driver.execute_script('return document.body.scrollHeight')\n",
    "    \n",
    "    try :\n",
    "        if driver.find_element_by_css_selector('.mye4qd'):\n",
    "            driver.find_element_by_css_selector('.mye4qd').click()   \n",
    "            time.sleep(SCROLL_PAUSE_TIME)\n",
    "#             try:\n",
    "#                 if new_height == last_height:\n",
    "#                     break\n",
    "#             except:\n",
    "#                 pass\n",
    "    except:\n",
    "        pass\n",
    "\n",
    "    \n",
    "    time.sleep(SCROLL_PAUSE_TIME)\n",
    "    \n",
    "    try:\n",
    "        if new_height == last_height:\n",
    "            break\n",
    "    except:\n",
    "        pass\n",
    "    \n",
    "    \n",
    "    time.sleep(SCROLL_PAUSE_TIME)\n",
    "    \n",
    "    last_height = new_height\n",
    "    print(last_height)"
   ]
  },
  {
   "cell_type": "code",
   "execution_count": 5,
   "metadata": {
    "scrolled": true
   },
   "outputs": [
    {
     "data": {
      "text/plain": [
       "'더 이상 표시할 콘텐츠가 없습니다.'"
      ]
     },
     "execution_count": 5,
     "metadata": {},
     "output_type": "execute_result"
    }
   ],
   "source": [
    "driver.find_element_by_css_selector('div.OuJzKb.Yu2Dnd > div').text"
   ]
  },
  {
   "cell_type": "code",
   "execution_count": 6,
   "metadata": {},
   "outputs": [],
   "source": [
    "# 이미지 저장 \n",
    "temp_list = driver.find_elements_by_css_selector('.rg_i')\n",
    "img_url_list = []\n",
    "for item in temp_list:\n",
    "    temp = item.get_attribute('src')\n",
    "    img_url_list.append(temp)\n"
   ]
  },
  {
   "cell_type": "code",
   "execution_count": 7,
   "metadata": {},
   "outputs": [
    {
     "data": {
      "text/plain": [
       "878"
      ]
     },
     "execution_count": 7,
     "metadata": {},
     "output_type": "execute_result"
    }
   ],
   "source": [
    "len(img_url_list)"
   ]
  },
  {
   "cell_type": "code",
   "execution_count": 83,
   "metadata": {},
   "outputs": [],
   "source": [
    "# img_url_list[0]"
   ]
  },
  {
   "cell_type": "code",
   "execution_count": 8,
   "metadata": {},
   "outputs": [
    {
     "name": "stdout",
     "output_type": "stream",
     "text": [
      "output/flower_1.jpg\n",
      "output/flower_2.jpg\n",
      "output/flower_3.jpg\n",
      "output/flower_4.jpg\n",
      "output/flower_5.jpg\n",
      "output/flower_6.jpg\n",
      "output/flower_7.jpg\n",
      "output/flower_8.jpg\n",
      "output/flower_9.jpg\n",
      "output/flower_10.jpg\n",
      "output/flower_11.jpg\n",
      "output/flower_12.jpg\n",
      "output/flower_13.jpg\n",
      "output/flower_14.jpg\n",
      "output/flower_15.jpg\n",
      "output/flower_16.jpg\n",
      "output/flower_17.jpg\n",
      "output/flower_18.jpg\n",
      "output/flower_19.jpg\n",
      "output/flower_20.jpg\n",
      "output/flower_21.jpg\n",
      "output/flower_22.jpg\n",
      "output/flower_23.jpg\n",
      "output/flower_24.jpg\n",
      "output/flower_25.jpg\n",
      "output/flower_26.jpg\n",
      "output/flower_27.jpg\n",
      "output/flower_28.jpg\n",
      "output/flower_29.jpg\n",
      "output/flower_30.jpg\n",
      "output/flower_31.jpg\n",
      "output/flower_32.jpg\n",
      "output/flower_33.jpg\n",
      "output/flower_34.jpg\n",
      "output/flower_35.jpg\n",
      "output/flower_36.jpg\n",
      "output/flower_37.jpg\n",
      "output/flower_38.jpg\n",
      "output/flower_39.jpg\n",
      "output/flower_40.jpg\n",
      "output/flower_41.jpg\n",
      "output/flower_42.jpg\n",
      "output/flower_43.jpg\n",
      "output/flower_44.jpg\n",
      "output/flower_45.jpg\n",
      "output/flower_46.jpg\n",
      "output/flower_47.jpg\n",
      "output/flower_48.jpg\n",
      "output/flower_49.jpg\n",
      "output/flower_50.jpg\n"
     ]
    }
   ],
   "source": [
    "# n장의 이미지 저장하기\n",
    "n = 50\n",
    "for i in range(1, n+1):\n",
    "    try:\n",
    "        path = f'output/flower_{i}.jpg'\n",
    "        urllib.request.urlretrieve(img_url_list[i], path)\n",
    "        print(path)\n",
    "    except:\n",
    "        pass\n"
   ]
  },
  {
   "cell_type": "code",
   "execution_count": null,
   "metadata": {},
   "outputs": [],
   "source": []
  }
 ],
 "metadata": {
  "kernelspec": {
   "display_name": "Python 3",
   "language": "python",
   "name": "python3"
  },
  "language_info": {
   "codemirror_mode": {
    "name": "ipython",
    "version": 3
   },
   "file_extension": ".py",
   "mimetype": "text/x-python",
   "name": "python",
   "nbconvert_exporter": "python",
   "pygments_lexer": "ipython3",
   "version": "3.8.3"
  }
 },
 "nbformat": 4,
 "nbformat_minor": 4
}
