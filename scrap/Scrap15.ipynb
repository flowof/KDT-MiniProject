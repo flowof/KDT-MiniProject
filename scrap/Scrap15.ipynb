{
 "cells": [
  {
   "cell_type": "markdown",
   "metadata": {},
   "source": [
    "# 공공데이타포탈의 API 서비스 이용하기 \n",
    "\n",
    "- https://www.data.go.kr/\n",
    "- 회원 가입후에 API서비스 신청 \n",
    "\n",
    "### 공공데이터활용지원센터_보건복지부 코로나19 감염 현황\n",
    "\n",
    "- https://www.data.go.kr/tcs/dss/selectApiDataDetailView.do?publicDataPk=15043376\n",
    "- [활용신청] 클릭후 서비스키 정보 확인\n",
    "[마이페이지]-[오픈 API]-[개발 계정]\n",
    "\n",
    "```\n",
    "일반 인증키 (Encoding)\n",
    "vPgcMKBzk6nt0FAdWvw3xagcCcykHB2FQixNBvAifCU11%2BIPy8YJtecAA1tDqPZgV%2FJA51kOgHp%2B4XGss7ECUQ%3D%3D\n",
    "\n",
    "일반 인증키(Decoding)\t\n",
    "vPgcMKBzk6nt0FAdWvw3xagcCcykHB2FQixNBvAifCU11+IPy8YJtecAA1tDqPZgV/JA51kOgHp+4XGss7ECUQ==\n",
    "\n",
    "```"
   ]
  },
  {
   "cell_type": "code",
   "execution_count": 2,
   "metadata": {},
   "outputs": [],
   "source": [
    "# (1) 관련 모듈 임포트 \n",
    "\n",
    "from xml.etree.ElementTree import *\n",
    "import pandas as pd\n",
    "import requests"
   ]
  },
  {
   "cell_type": "code",
   "execution_count": null,
   "metadata": {},
   "outputs": [],
   "source": []
  },
  {
   "cell_type": "code",
   "execution_count": 16,
   "metadata": {},
   "outputs": [
    {
     "name": "stdout",
     "output_type": "stream",
     "text": [
      "<class 'str'>\n",
      "http://openapi.data.go.kr/openapi/service/rest/Covid19/getCovid19InfStateJson\n"
     ]
    }
   ],
   "source": [
    "# 2) 페이지 요청 \n",
    "\n",
    "url = 'http://openapi.data.go.kr/openapi/service/rest/Covid19/getCovid19InfStateJson'\n",
    "# 서비스키 설정 - 디코딩한 서비스키 이용 \n",
    "serviceKey = 'Yhq6n9vlpaKZsCOw0jec8zIdZ8p+Bpuku6WLjVgDhqXRW6dHnfXoauSEj19jpnjv59CUGspyTxVCgCeXOua7dg=='\n",
    "\n",
    "params ={'serviceKey' : serviceKey, \n",
    "         'pageNo' : '1', \n",
    "         'numOfRows' : '10', \n",
    "         'startCreateDt' : '20210101', # 시작일\n",
    "         'endCreateDt' : '20211021' } # 종료일\n",
    "\n",
    "response = requests.get(url, params=params)\n",
    "\n",
    "print(type(response.text))\n",
    "# print(response.text)\n",
    "print(url)"
   ]
  },
  {
   "cell_type": "code",
   "execution_count": 22,
   "metadata": {},
   "outputs": [
    {
     "data": {
      "text/plain": [
       "<xml.etree.ElementTree.ElementTree at 0x1ccbb25bf40>"
      ]
     },
     "execution_count": 22,
     "metadata": {},
     "output_type": "execute_result"
    }
   ],
   "source": [
    "# (3) xml 데이타 소스 => 파이썬의 xml 객체 \n",
    "# xml객체명 = ElementTree(fromstring(xml데이타소스))\n",
    "\n",
    "tree = ElementTree(fromstring(response.text))\n",
    "tree"
   ]
  },
  {
   "cell_type": "code",
   "execution_count": 37,
   "metadata": {},
   "outputs": [
    {
     "data": {
      "text/plain": [
       "(<Element 'response' at 0x000001CCFF9070E0>, xml.etree.ElementTree.Element)"
      ]
     },
     "execution_count": 37,
     "metadata": {},
     "output_type": "execute_result"
    }
   ],
   "source": [
    "# (4) 최상위 부모 태그 요소 찾기 와 탐색 \n",
    "# root = xml객체.getroot()\n",
    "root = tree.getroot()\n",
    "root, type(root)"
   ]
  },
  {
   "cell_type": "code",
   "execution_count": 31,
   "metadata": {},
   "outputs": [
    {
     "name": "stdout",
     "output_type": "stream",
     "text": [
      "<Element 'body' at 0x000001CCFF907270>\n",
      "<Element 'items' at 0x000001CCFF9072C0>\n",
      "294\n"
     ]
    }
   ],
   "source": [
    "body = root.find('body')\n",
    "items = root.find('body').find('items')\n",
    "item_list = root.find('body').find('items').findall('item')\n",
    "print(body)\n",
    "print(items)\n",
    "print(len(item_list))"
   ]
  },
  {
   "cell_type": "code",
   "execution_count": 36,
   "metadata": {},
   "outputs": [
    {
     "data": {
      "text/plain": [
       "('stateDt', '20211021')"
      ]
     },
     "execution_count": 36,
     "metadata": {},
     "output_type": "execute_result"
    }
   ],
   "source": [
    "item_list[0].find('stateDt').tag,  item_list[0].find('stateDt').text"
   ]
  },
  {
   "cell_type": "code",
   "execution_count": 39,
   "metadata": {},
   "outputs": [],
   "source": [
    "# (5) 2차원 리스트 저장 \n",
    "# 기준일 STATE_DT\n",
    "# 확진자 수 DECIDE_CNT\n",
    "# 검사진행수  EXAM_CNT\n",
    "# 사망자 수 DEATH_CNT\n",
    "\n",
    "result_list = []\n",
    "for item in item_list:\n",
    "    stateDt = item.find('stateDt').text\n",
    "    decideCnt= item.find('decideCnt').text\n",
    "    examCnt= item.find('examCnt').text\n",
    "    deathCnt= item.find('deathCnt').text\n",
    "    result_list.append([stateDt, decideCnt, examCnt, deathCnt])\n",
    "    "
   ]
  },
  {
   "cell_type": "code",
   "execution_count": 42,
   "metadata": {},
   "outputs": [
    {
     "data": {
      "text/plain": [
       "(294,\n",
       " ['20211021', '347529', '1334586', '2709'],\n",
       " ['20210101', '61753', '176927', '917'])"
      ]
     },
     "execution_count": 42,
     "metadata": {},
     "output_type": "execute_result"
    }
   ],
   "source": [
    "len(result_list), result_list[0], result_list[-1]"
   ]
  },
  {
   "cell_type": "code",
   "execution_count": 43,
   "metadata": {},
   "outputs": [
    {
     "data": {
      "text/html": [
       "<div>\n",
       "<style scoped>\n",
       "    .dataframe tbody tr th:only-of-type {\n",
       "        vertical-align: middle;\n",
       "    }\n",
       "\n",
       "    .dataframe tbody tr th {\n",
       "        vertical-align: top;\n",
       "    }\n",
       "\n",
       "    .dataframe thead th {\n",
       "        text-align: right;\n",
       "    }\n",
       "</style>\n",
       "<table border=\"1\" class=\"dataframe\">\n",
       "  <thead>\n",
       "    <tr style=\"text-align: right;\">\n",
       "      <th></th>\n",
       "      <th>기준일</th>\n",
       "      <th>확진자수</th>\n",
       "      <th>검사진행수</th>\n",
       "      <th>사망자수</th>\n",
       "    </tr>\n",
       "  </thead>\n",
       "  <tbody>\n",
       "    <tr>\n",
       "      <th>0</th>\n",
       "      <td>20211021</td>\n",
       "      <td>347529</td>\n",
       "      <td>1334586</td>\n",
       "      <td>2709</td>\n",
       "    </tr>\n",
       "    <tr>\n",
       "      <th>1</th>\n",
       "      <td>20211020</td>\n",
       "      <td>346088</td>\n",
       "      <td>1325132</td>\n",
       "      <td>2698</td>\n",
       "    </tr>\n",
       "    <tr>\n",
       "      <th>2</th>\n",
       "      <td>20211019</td>\n",
       "      <td>344517</td>\n",
       "      <td>1323771</td>\n",
       "      <td>2689</td>\n",
       "    </tr>\n",
       "    <tr>\n",
       "      <th>3</th>\n",
       "      <td>20211018</td>\n",
       "      <td>343445</td>\n",
       "      <td>1320566</td>\n",
       "      <td>2668</td>\n",
       "    </tr>\n",
       "    <tr>\n",
       "      <th>4</th>\n",
       "      <td>20211017</td>\n",
       "      <td>342396</td>\n",
       "      <td>1312433</td>\n",
       "      <td>2660</td>\n",
       "    </tr>\n",
       "    <tr>\n",
       "      <th>...</th>\n",
       "      <td>...</td>\n",
       "      <td>...</td>\n",
       "      <td>...</td>\n",
       "      <td>...</td>\n",
       "    </tr>\n",
       "    <tr>\n",
       "      <th>289</th>\n",
       "      <td>20210105</td>\n",
       "      <td>64964</td>\n",
       "      <td>193751</td>\n",
       "      <td>1007</td>\n",
       "    </tr>\n",
       "    <tr>\n",
       "      <th>290</th>\n",
       "      <td>20210104</td>\n",
       "      <td>64250</td>\n",
       "      <td>190732</td>\n",
       "      <td>981</td>\n",
       "    </tr>\n",
       "    <tr>\n",
       "      <th>291</th>\n",
       "      <td>20210103</td>\n",
       "      <td>63230</td>\n",
       "      <td>186472</td>\n",
       "      <td>962</td>\n",
       "    </tr>\n",
       "    <tr>\n",
       "      <th>292</th>\n",
       "      <td>20210102</td>\n",
       "      <td>62573</td>\n",
       "      <td>179387</td>\n",
       "      <td>942</td>\n",
       "    </tr>\n",
       "    <tr>\n",
       "      <th>293</th>\n",
       "      <td>20210101</td>\n",
       "      <td>61753</td>\n",
       "      <td>176927</td>\n",
       "      <td>917</td>\n",
       "    </tr>\n",
       "  </tbody>\n",
       "</table>\n",
       "<p>294 rows × 4 columns</p>\n",
       "</div>"
      ],
      "text/plain": [
       "          기준일    확진자수    검사진행수  사망자수\n",
       "0    20211021  347529  1334586  2709\n",
       "1    20211020  346088  1325132  2698\n",
       "2    20211019  344517  1323771  2689\n",
       "3    20211018  343445  1320566  2668\n",
       "4    20211017  342396  1312433  2660\n",
       "..        ...     ...      ...   ...\n",
       "289  20210105   64964   193751  1007\n",
       "290  20210104   64250   190732   981\n",
       "291  20210103   63230   186472   962\n",
       "292  20210102   62573   179387   942\n",
       "293  20210101   61753   176927   917\n",
       "\n",
       "[294 rows x 4 columns]"
      ]
     },
     "execution_count": 43,
     "metadata": {},
     "output_type": "execute_result"
    }
   ],
   "source": [
    "# (6) 데이타프레임 변경\n",
    "df_covid = pd.DataFrame(result_list, columns=['기준일', '확진자수', '검사진행수','사망자수'])\n",
    "df_covid"
   ]
  },
  {
   "cell_type": "code",
   "execution_count": null,
   "metadata": {},
   "outputs": [],
   "source": []
  }
 ],
 "metadata": {
  "kernelspec": {
   "display_name": "Python 3",
   "language": "python",
   "name": "python3"
  },
  "language_info": {
   "codemirror_mode": {
    "name": "ipython",
    "version": 3
   },
   "file_extension": ".py",
   "mimetype": "text/x-python",
   "name": "python",
   "nbconvert_exporter": "python",
   "pygments_lexer": "ipython3",
   "version": "3.7.3"
  }
 },
 "nbformat": 4,
 "nbformat_minor": 4
}
