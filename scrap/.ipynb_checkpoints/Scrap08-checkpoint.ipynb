{
 "cells": [
  {
   "cell_type": "markdown",
   "metadata": {},
   "source": [
    "# 퀴즈 : YES24 국내도서 종합 베스트셀러 정보 \n",
    "\n",
    "\n",
    "```\n",
    "http://www.yes24.com/24/Category/BestSeller?CategoryNumber=001&sumgb=06&PageNumber=1\n",
    "\n",
    "\n",
    "book_print(시작페이지, 마지막페이지) 형태로 함수를 호출하면 \n",
    "데이타프레임 형태로 출력되도록 한다. \n",
    "\n",
    "저장되는 요소는? 책제목, 저자, 출판사, 출판날짜, 가격, URL\n",
    "\n",
    "예) book_print(1, 5) 호출시 \n",
    "   1~5페이지까지 데이타프레임을 출력 \n",
    "\n",
    "```\n",
    "\n"
   ]
  },
  {
   "cell_type": "markdown",
   "metadata": {},
   "source": [
    "# 퀴즈2. 요일별 웹툰\n",
    "- url : https://comic.naver.com/webtoon/weekday.nhn\n",
    "- 영역은 [요일별 전체 웹툰]\n",
    "- 요일 / 웹툰제목 / 관련 URL 예) 월요일 참교육 https://comic.naver.com/webtoon/ ..."
   ]
  }
 ],
 "metadata": {
  "kernelspec": {
   "display_name": "Python 3",
   "language": "python",
   "name": "python3"
  },
  "language_info": {
   "codemirror_mode": {
    "name": "ipython",
    "version": 3
   },
   "file_extension": ".py",
   "mimetype": "text/x-python",
   "name": "python",
   "nbconvert_exporter": "python",
   "pygments_lexer": "ipython3",
   "version": "3.7.3"
  }
 },
 "nbformat": 4,
 "nbformat_minor": 4
}
