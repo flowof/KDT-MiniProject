{
 "cells": [
  {
   "cell_type": "markdown",
   "metadata": {},
   "source": [
    "# 구글 이미지 저장하기\n",
    "\n",
    "- 더보기 버튼 클릭 시 다른 이미지가 로딩\n",
    "- 더 이상 표시할 콘텐츠가 없습니다. 메시지가 나오면 검색 페이지 끝"
   ]
  },
  {
   "cell_type": "code",
   "execution_count": 3,
   "metadata": {},
   "outputs": [],
   "source": [
    "# 1) 관련 모듈 임포트\n",
    "import pandas as pd\n",
    "import time\n",
    "from selenium import webdriver\n",
    "#from selenium.webdriver.chrome.service import Service\n",
    "\n",
    "# 경고 메시지 출력x\n",
    "import warnings\n",
    "warnings.filterwarnings(action= 'ignore')\n",
    "\n",
    "import urllib.request\n",
    "import os"
   ]
  },
  {
   "cell_type": "markdown",
   "metadata": {},
   "source": [
    "## 웹 상의 이미지 저장하기\n",
    "\n",
    "- urllib.request.urlretrieve(웹상이미지경로, 저장경로)"
   ]
  },
  {
   "cell_type": "code",
   "execution_count": 4,
   "metadata": {},
   "outputs": [
    {
     "data": {
      "text/plain": [
       "('output/flower.jpg', <http.client.HTTPMessage at 0x12e1590b518>)"
      ]
     },
     "execution_count": 4,
     "metadata": {},
     "output_type": "execute_result"
    }
   ],
   "source": [
    "imgURL = 'https://encrypted-tbn0.gstatic.com/images?q=tbn:ANd9GcTy9FGNrLLPhRgIeM46AQpL7FDvLyjs_FS8ug&usqp=CAU'\n",
    "targetPath = 'output/flower.jpg'\n",
    "urllib.request.urlretrieve(imgURL, targetPath)"
   ]
  },
  {
   "cell_type": "code",
   "execution_count": 5,
   "metadata": {},
   "outputs": [],
   "source": [
    "# 크롬 웹브라우저 실행 => 구글 사이트로 이동 \n",
    "# 검색어 입력 => 검색어 결과 페이지 표시 \n",
    "\n",
    "driver = webdriver.Chrome('chromedriver.exe')\n",
    "time.sleep(2)\n",
    "\n",
    "url = 'https://www.google.co.kr/imghp?hl=ko&ogbl'\n",
    "driver.get(url)\n",
    "\n",
    "time.sleep(2)\n",
    "\n",
    "driver.find_element_by_name('q').send_keys('노고단')\n",
    "driver.find_element_by_name('q').submit()"
   ]
  },
  {
   "cell_type": "markdown",
   "metadata": {},
   "source": [
    "#### 자바스크립트 연동\n",
    "\n",
    "- driver.execute_script(JS문법)"
   ]
  },
  {
   "cell_type": "code",
   "execution_count": 11,
   "metadata": {},
   "outputs": [],
   "source": [
    "# 셀레니움에서 자바스크립트 연동\n",
    "driver.execute_script('console.log(\"Hellow world\")')"
   ]
  },
  {
   "cell_type": "code",
   "execution_count": 12,
   "metadata": {},
   "outputs": [],
   "source": [
    "# 경고창 발생\n",
    "driver.execute_script('window.alert(\"Hellow Python\")')"
   ]
  },
  {
   "cell_type": "code",
   "execution_count": null,
   "metadata": {},
   "outputs": [],
   "source": [
    "# 웹브라우저의 스크롤바 컨트롤 \n",
    "\n",
    "# 스크롤링 타임 지정 \n",
    "SCROLL_PAUSE_TIME  = 1\n",
    "\n",
    "# 웹브라우저의 현재 전체 스크롤바 높이 반환 \n",
    "last_height = driver.execute_script('return document.body.scrollHeight')\n",
    "print(last_height)\n",
    "\n",
    "# 자바스크립트 스크롤 이동 합수 \n",
    "# window.scrollTo(start, end)\n",
    "\n",
    "while True:\n",
    "    driver.execute_script('window.scrollTo(0, document.body.scrollHeight)')\n",
    "    \n",
    "    time.sleep(SCROLL_PAUSE_TIME)\n",
    "    \n",
    "    new_height = driver.execute_script('return document.body.scrollHeight')\n",
    "    \n",
    "    # 웹브라우저의 마지막 스크롤바 위치에서\n",
    "    if new_height == last_height:\n",
    "        try:\n",
    "            # 더보기 버튼의 선택자 반환\n",
    "            print(driver.find_element_by_css_slecter('input.mye4qd'))\n",
    "            driver.find_element_by_css_slecter('input.mye4qd').submit()\n",
    "        except:\n",
    "            break\n",
    "            \n",
    "    last_height = new_height\n",
    "    print(last_height)"
   ]
  },
  {
   "cell_type": "code",
   "execution_count": 19,
   "metadata": {},
   "outputs": [],
   "source": [
    "# 이미지 저장\n",
    "n = 10\n",
    "temp_list = driver.find_elements_by_css_selector('.rg_i')\n",
    "img_url_list = []\n",
    "for item in temp_list:\n",
    "    temp = item.get_attribute('src')\n",
    "    img_url_list.append(temp)"
   ]
  },
  {
   "cell_type": "code",
   "execution_count": 20,
   "metadata": {},
   "outputs": [
    {
     "data": {
      "text/plain": [
       "400"
      ]
     },
     "execution_count": 20,
     "metadata": {},
     "output_type": "execute_result"
    }
   ],
   "source": [
    "len(img_url_list)"
   ]
  },
  {
   "cell_type": "code",
   "execution_count": 22,
   "metadata": {},
   "outputs": [],
   "source": [
    "#img_url_list[0]"
   ]
  },
  {
   "cell_type": "code",
   "execution_count": 23,
   "metadata": {},
   "outputs": [],
   "source": [
    "n = 10\n",
    "for i in range(n):\n",
    "    path = f'output/mountain_{i}.jpg'\n",
    "    urllib.request.urlretrieve(img_url_list[i], path)"
   ]
  },
  {
   "cell_type": "code",
   "execution_count": 24,
   "metadata": {},
   "outputs": [
    {
     "name": "stdout",
     "output_type": "stream",
     "text": [
      " C 드라이브의 볼륨에는 이름이 없습니다.\n",
      " 볼륨 일련 번호: 7A70-C0C1\n",
      "\n",
      " C:\\workspace2021\\scrap\\output 디렉터리\n",
      "\n",
      "2021-10-18  오후 05:14    <DIR>          .\n",
      "2021-10-18  오후 05:14    <DIR>          ..\n",
      "2021-10-14  오후 02:48    <DIR>          .ipynb_checkpoints\n",
      "2021-10-14  오후 02:47           510,664 alladin.html\n",
      "2021-10-14  오후 02:48           510,664 alladin2.html\n",
      "2021-10-14  오후 05:22            12,284 color.csv\n",
      "2021-10-18  오후 04:15             9,480 flower.jpg\n",
      "2021-10-18  오후 05:14             9,302 mountain_0.jpg\n",
      "2021-10-18  오후 05:14             7,015 mountain_1.jpg\n",
      "2021-10-18  오후 05:14             9,170 mountain_2.jpg\n",
      "2021-10-18  오후 05:14             7,692 mountain_3.jpg\n",
      "2021-10-18  오후 05:14            11,246 mountain_4.jpg\n",
      "2021-10-18  오후 05:14             8,530 mountain_5.jpg\n",
      "2021-10-18  오후 05:14            11,305 mountain_6.jpg\n",
      "2021-10-18  오후 05:14             7,959 mountain_7.jpg\n",
      "2021-10-18  오후 05:14            12,372 mountain_8.jpg\n",
      "2021-10-18  오후 05:14            11,635 mountain_9.jpg\n",
      "2021-10-15  오후 03:53            14,438 movie_kid.csv\n",
      "2021-10-14  오후 02:09           565,326 yes24.html\n",
      "2021-10-18  오전 11:30           164,094 yes24bestseller_20211018.csv\n",
      "              17개 파일           1,883,176 바이트\n",
      "               3개 디렉터리  24,420,470,784 바이트 남음\n"
     ]
    }
   ],
   "source": [
    "ls output"
   ]
  },
  {
   "cell_type": "code",
   "execution_count": null,
   "metadata": {},
   "outputs": [],
   "source": []
  },
  {
   "cell_type": "code",
   "execution_count": null,
   "metadata": {},
   "outputs": [],
   "source": []
  }
 ],
 "metadata": {
  "kernelspec": {
   "display_name": "Python 3",
   "language": "python",
   "name": "python3"
  },
  "language_info": {
   "codemirror_mode": {
    "name": "ipython",
    "version": 3
   },
   "file_extension": ".py",
   "mimetype": "text/x-python",
   "name": "python",
   "nbconvert_exporter": "python",
   "pygments_lexer": "ipython3",
   "version": "3.7.3"
  }
 },
 "nbformat": 4,
 "nbformat_minor": 2
}
