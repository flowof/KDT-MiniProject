{
 "cells": [
  {
   "cell_type": "code",
   "execution_count": 1,
   "metadata": {},
   "outputs": [],
   "source": [
    "# 관련 모듈 임포트 \n",
    "import requests\n",
    "from bs4 import BeautifulSoup\n",
    "import pandas as pd"
   ]
  },
  {
   "cell_type": "markdown",
   "metadata": {},
   "source": [
    "# 퀴즈1 : 네이버 웹툰 인기순 정보 저장하기\n",
    "\n",
    "https://comic.naver.com/webtoon/weekday.nhn\n",
    "\n",
    "- [인기급상승만화]-[인기순] 영역\n",
    "- 추출정보 = > 순위 / 웹툰제목 / 관련 URL \n",
    "- output/naverWebtoon10.csv\n",
    "- 제출은 노트북파일을 coderecipe@naver.com 제출 "
   ]
  },
  {
   "cell_type": "code",
   "execution_count": 2,
   "metadata": {},
   "outputs": [
    {
     "data": {
      "text/plain": [
       "<Response [200]>"
      ]
     },
     "execution_count": 2,
     "metadata": {},
     "output_type": "execute_result"
    }
   ],
   "source": [
    "# response 객체 => html 페이지\n",
    "\n",
    "url = 'https://comic.naver.com/webtoon/weekday.nhn'\n",
    "res = requests.get(url)\n",
    "html_str = res.text\n",
    "res"
   ]
  },
  {
   "cell_type": "code",
   "execution_count": 5,
   "metadata": {},
   "outputs": [],
   "source": [
    "html_str = res.text\n",
    "soup = BeautifulSoup(html_str, 'html.parser')\n",
    "# soup"
   ]
  },
  {
   "cell_type": "code",
   "execution_count": 7,
   "metadata": {},
   "outputs": [
    {
     "data": {
      "text/plain": [
       "10"
      ]
     },
     "execution_count": 7,
     "metadata": {},
     "output_type": "execute_result"
    }
   ],
   "source": [
    "a_list = soup.select('ol#realTimeRankFavorite > li > a')\n",
    "len(a_list)"
   ]
  },
  {
   "cell_type": "code",
   "execution_count": 28,
   "metadata": {},
   "outputs": [
    {
     "data": {
      "text/plain": [
       "<a href=\"/webtoon/detail?titleId=641253&amp;no=361\" onclick=\"nclk_v2(event,'rnk*p.cont','641253','1')\" title=\"외모지상주의-361화 원나잇lll [02]\">외모지상주의-361화 원나잇lll [02]</a>"
      ]
     },
     "execution_count": 28,
     "metadata": {},
     "output_type": "execute_result"
    }
   ],
   "source": [
    "a_list[0]"
   ]
  },
  {
   "cell_type": "code",
   "execution_count": 29,
   "metadata": {},
   "outputs": [
    {
     "data": {
      "text/plain": [
       "<a href=\"/webtoon/detail?titleId=773476&amp;no=19\" onclick=\"nclk_v2(event,'rnk*p.cont','773476','10')\" title=\"서울역 드루이드-19화\">서울역 드루이드-19화</a>"
      ]
     },
     "execution_count": 29,
     "metadata": {},
     "output_type": "execute_result"
    }
   ],
   "source": [
    "a_list[-1]"
   ]
  },
  {
   "cell_type": "code",
   "execution_count": 30,
   "metadata": {},
   "outputs": [
    {
     "data": {
      "text/plain": [
       "'외모지상주의-361화 원나잇lll [02]'"
      ]
     },
     "execution_count": 30,
     "metadata": {},
     "output_type": "execute_result"
    }
   ],
   "source": [
    "title = a_list[0].get('title')\n",
    "title"
   ]
  },
  {
   "cell_type": "code",
   "execution_count": 31,
   "metadata": {},
   "outputs": [
    {
     "data": {
      "text/plain": [
       "'https://comic.naver.com/webtoon/detail?titleId=641253&no=361'"
      ]
     },
     "execution_count": 31,
     "metadata": {},
     "output_type": "execute_result"
    }
   ],
   "source": [
    "base_url = 'https://comic.naver.com'\n",
    "URL = base_url + a_list[0].get('href')\n",
    "URL"
   ]
  },
  {
   "cell_type": "code",
   "execution_count": 40,
   "metadata": {},
   "outputs": [
    {
     "data": {
      "text/plain": [
       "1"
      ]
     },
     "execution_count": 40,
     "metadata": {},
     "output_type": "execute_result"
    }
   ],
   "source": [
    "# rank = a_list[0].get('onclick')\n",
    "# rank = a_list[0].get('onclick').split(',')\n",
    "# rank = a_list[0].get('onclick').split(',')[-1]\n",
    "# rank = a_list[0].get('onclick').split(',')[-1].split(\"'\")\n",
    "# rank = a_list[0].get('onclick').split(',')[-1].split(\"'\")[1]\n",
    "rank = int(a_list[0].get('onclick').split(',')[-1].split(\"'\")[1])\n",
    "rank"
   ]
  },
  {
   "cell_type": "code",
   "execution_count": 41,
   "metadata": {},
   "outputs": [
    {
     "data": {
      "text/plain": [
       "[[1,\n",
       "  '외모지상주의-361화 원나잇lll [02]',\n",
       "  'https://comic.naver.com/webtoon/detail?titleId=641253&no=361'],\n",
       " [2,\n",
       "  '나 혼자 만렙 뉴비-12화. 미궁 라비린토스(4)',\n",
       "  'https://comic.naver.com/webtoon/detail?titleId=773797&no=13'],\n",
       " [3,\n",
       "  '죽지 않으려면-22화',\n",
       "  'https://comic.naver.com/webtoon/detail?titleId=772764&no=22'],\n",
       " [4,\n",
       "  '1초-135화 전야 (1)',\n",
       "  'https://comic.naver.com/webtoon/detail?titleId=725586&no=136'],\n",
       " [5,\n",
       "  '재혼 황후-다시보는 재혼황후 명대사 모음집 : 나비에편',\n",
       "  'https://comic.naver.com/webtoon/detail?titleId=735661&no=86'],\n",
       " [6, '쌈빡-8화', 'https://comic.naver.com/webtoon/detail?titleId=777515&no=8'],\n",
       " [7, '데드퀸-58화', 'https://comic.naver.com/webtoon/detail?titleId=753478&no=58'],\n",
       " [8,\n",
       "  '개를 낳았다-번외편 1화',\n",
       "  'https://comic.naver.com/webtoon/detail?titleId=712362&no=145'],\n",
       " [9,\n",
       "  '광마회귀-13화',\n",
       "  'https://comic.naver.com/webtoon/detail?titleId=776601&no=13'],\n",
       " [10,\n",
       "  '서울역 드루이드-19화',\n",
       "  'https://comic.naver.com/webtoon/detail?titleId=773476&no=19']]"
      ]
     },
     "execution_count": 41,
     "metadata": {},
     "output_type": "execute_result"
    }
   ],
   "source": [
    "webtoon_list = []\n",
    "base_url = 'https://comic.naver.com'\n",
    "for a in a_list:\n",
    "#     rank = a.get('onclick').split(',')[-1].replace('\\'','').replace(')','')\n",
    "    rank = int(a.get('onclick').split(',')[-1].split(\"'\")[1])\n",
    "    title = a.get('title')\n",
    "    link = base_url + a.get('href')\n",
    "    webtoon_list.append([rank, title, link])\n",
    "webtoon_list"
   ]
  },
  {
   "cell_type": "code",
   "execution_count": 25,
   "metadata": {},
   "outputs": [
    {
     "data": {
      "text/html": [
       "<div>\n",
       "<style scoped>\n",
       "    .dataframe tbody tr th:only-of-type {\n",
       "        vertical-align: middle;\n",
       "    }\n",
       "\n",
       "    .dataframe tbody tr th {\n",
       "        vertical-align: top;\n",
       "    }\n",
       "\n",
       "    .dataframe thead th {\n",
       "        text-align: right;\n",
       "    }\n",
       "</style>\n",
       "<table border=\"1\" class=\"dataframe\">\n",
       "  <thead>\n",
       "    <tr style=\"text-align: right;\">\n",
       "      <th></th>\n",
       "      <th>순위</th>\n",
       "      <th>제목</th>\n",
       "      <th>URL</th>\n",
       "    </tr>\n",
       "  </thead>\n",
       "  <tbody>\n",
       "    <tr>\n",
       "      <th>0</th>\n",
       "      <td>1</td>\n",
       "      <td>외모지상주의-361화 원나잇lll [02]</td>\n",
       "      <td>https://comic.naver.com/webtoon/detail?titleId...</td>\n",
       "    </tr>\n",
       "    <tr>\n",
       "      <th>1</th>\n",
       "      <td>2</td>\n",
       "      <td>나 혼자 만렙 뉴비-12화. 미궁 라비린토스(4)</td>\n",
       "      <td>https://comic.naver.com/webtoon/detail?titleId...</td>\n",
       "    </tr>\n",
       "    <tr>\n",
       "      <th>2</th>\n",
       "      <td>3</td>\n",
       "      <td>죽지 않으려면-22화</td>\n",
       "      <td>https://comic.naver.com/webtoon/detail?titleId...</td>\n",
       "    </tr>\n",
       "    <tr>\n",
       "      <th>3</th>\n",
       "      <td>4</td>\n",
       "      <td>1초-135화 전야 (1)</td>\n",
       "      <td>https://comic.naver.com/webtoon/detail?titleId...</td>\n",
       "    </tr>\n",
       "    <tr>\n",
       "      <th>4</th>\n",
       "      <td>5</td>\n",
       "      <td>재혼 황후-다시보는 재혼황후 명대사 모음집 : 나비에편</td>\n",
       "      <td>https://comic.naver.com/webtoon/detail?titleId...</td>\n",
       "    </tr>\n",
       "    <tr>\n",
       "      <th>5</th>\n",
       "      <td>6</td>\n",
       "      <td>쌈빡-8화</td>\n",
       "      <td>https://comic.naver.com/webtoon/detail?titleId...</td>\n",
       "    </tr>\n",
       "    <tr>\n",
       "      <th>6</th>\n",
       "      <td>7</td>\n",
       "      <td>데드퀸-58화</td>\n",
       "      <td>https://comic.naver.com/webtoon/detail?titleId...</td>\n",
       "    </tr>\n",
       "    <tr>\n",
       "      <th>7</th>\n",
       "      <td>8</td>\n",
       "      <td>개를 낳았다-번외편 1화</td>\n",
       "      <td>https://comic.naver.com/webtoon/detail?titleId...</td>\n",
       "    </tr>\n",
       "    <tr>\n",
       "      <th>8</th>\n",
       "      <td>9</td>\n",
       "      <td>광마회귀-13화</td>\n",
       "      <td>https://comic.naver.com/webtoon/detail?titleId...</td>\n",
       "    </tr>\n",
       "    <tr>\n",
       "      <th>9</th>\n",
       "      <td>10</td>\n",
       "      <td>서울역 드루이드-19화</td>\n",
       "      <td>https://comic.naver.com/webtoon/detail?titleId...</td>\n",
       "    </tr>\n",
       "  </tbody>\n",
       "</table>\n",
       "</div>"
      ],
      "text/plain": [
       "   순위                              제목  \\\n",
       "0   1         외모지상주의-361화 원나잇lll [02]   \n",
       "1   2     나 혼자 만렙 뉴비-12화. 미궁 라비린토스(4)   \n",
       "2   3                     죽지 않으려면-22화   \n",
       "3   4                  1초-135화 전야 (1)   \n",
       "4   5  재혼 황후-다시보는 재혼황후 명대사 모음집 : 나비에편   \n",
       "5   6                           쌈빡-8화   \n",
       "6   7                         데드퀸-58화   \n",
       "7   8                   개를 낳았다-번외편 1화   \n",
       "8   9                        광마회귀-13화   \n",
       "9  10                    서울역 드루이드-19화   \n",
       "\n",
       "                                                 URL  \n",
       "0  https://comic.naver.com/webtoon/detail?titleId...  \n",
       "1  https://comic.naver.com/webtoon/detail?titleId...  \n",
       "2  https://comic.naver.com/webtoon/detail?titleId...  \n",
       "3  https://comic.naver.com/webtoon/detail?titleId...  \n",
       "4  https://comic.naver.com/webtoon/detail?titleId...  \n",
       "5  https://comic.naver.com/webtoon/detail?titleId...  \n",
       "6  https://comic.naver.com/webtoon/detail?titleId...  \n",
       "7  https://comic.naver.com/webtoon/detail?titleId...  \n",
       "8  https://comic.naver.com/webtoon/detail?titleId...  \n",
       "9  https://comic.naver.com/webtoon/detail?titleId...  "
      ]
     },
     "execution_count": 25,
     "metadata": {},
     "output_type": "execute_result"
    }
   ],
   "source": [
    "webtoon_df = pd.DataFrame(webtoon_list, columns = ['순위', '제목', 'URL'])\n",
    "webtoon_df"
   ]
  },
  {
   "cell_type": "code",
   "execution_count": 26,
   "metadata": {},
   "outputs": [],
   "source": [
    "webtoon_df.to_csv('output/naverWebtoon10.csv', index = False)"
   ]
  },
  {
   "cell_type": "code",
   "execution_count": 27,
   "metadata": {},
   "outputs": [
    {
     "name": "stdout",
     "output_type": "stream",
     "text": [
      " C 드라이브의 볼륨에는 이름이 없습니다.\n",
      " 볼륨 일련 번호: DC29-8D46\n",
      "\n",
      " C:\\workspace2110\\scrap\\output 디렉터리\n",
      "\n",
      "2021-10-15  오후 01:43    <DIR>          .\n",
      "2021-10-15  오후 01:43    <DIR>          ..\n",
      "2021-10-14  오후 02:46    <DIR>          .ipynb_checkpoints\n",
      "2021-10-15  오전 10:31             3,040 alexa_topSites.csv\n",
      "2021-10-15  오전 10:40               668 alexa_topSites10.csv\n",
      "2021-10-15  오전 10:51               165 alexa_topSites5.csv\n",
      "2021-10-14  오후 02:47           510,584 alladin.html\n",
      "2021-10-14  오후 02:47           392,680 alladin2.html\n",
      "2021-10-14  오후 05:22            12,432 color.csv\n",
      "2021-10-15  오후 01:43               986 naverWebtoon10.csv\n",
      "2021-10-14  오후 02:09           565,325 yes24.html\n",
      "2021-10-15  오전 11:48             1,739 yes24_bestseller.csv\n",
      "               9개 파일           1,487,619 바이트\n",
      "               3개 디렉터리  22,873,313,280 바이트 남음\n"
     ]
    }
   ],
   "source": [
    "ls output"
   ]
  },
  {
   "cell_type": "code",
   "execution_count": null,
   "metadata": {},
   "outputs": [],
   "source": []
  },
  {
   "cell_type": "code",
   "execution_count": null,
   "metadata": {},
   "outputs": [],
   "source": [
    "#  퀴즈2. 요일별 웹툰\n",
    "\n",
    "- url : "
   ]
  },
  {
   "cell_type": "code",
   "execution_count": null,
   "metadata": {},
   "outputs": [],
   "source": []
  }
 ],
 "metadata": {
  "kernelspec": {
   "display_name": "Python 3",
   "language": "python",
   "name": "python3"
  },
  "language_info": {
   "codemirror_mode": {
    "name": "ipython",
    "version": 3
   },
   "file_extension": ".py",
   "mimetype": "text/x-python",
   "name": "python",
   "nbconvert_exporter": "python",
   "pygments_lexer": "ipython3",
   "version": "3.7.3"
  }
 },
 "nbformat": 4,
 "nbformat_minor": 4
}
