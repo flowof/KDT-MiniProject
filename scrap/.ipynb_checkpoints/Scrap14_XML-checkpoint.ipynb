{
 "cells": [
  {
   "cell_type": "markdown",
   "metadata": {},
   "source": [
    "# XML이란?\n",
    "\n",
    "- eXtensible Markup Language\n",
    "- 다목적의 성격을 가진 마크업언어 \n",
    "\n",
    "- https://www.w3schools.com/xml/xml_tree.asp\n",
    "\n",
    "```\n",
    "<태그 속성=값>\n",
    " 내용\n",
    "</태그>\n",
    "\n",
    "\n",
    "<태그 />\n",
    "```"
   ]
  },
  {
   "cell_type": "markdown",
   "metadata": {},
   "source": [
    "# 파이썬의 xml\n",
    "- xml.etree.elementtree 라이브러리\n",
    "\n",
    "https://docs.python.org/ko/3/library/xml.etree.elementtree.html"
   ]
  },
  {
   "cell_type": "code",
   "execution_count": 7,
   "metadata": {},
   "outputs": [],
   "source": [
    "# (1) 관련 모듈 임포트 \n",
    "# import xml.etree.ElementTree as ET\n",
    "\n",
    "from xml.etree.ElementTree import *\n",
    "import pandas as pd"
   ]
  },
  {
   "cell_type": "code",
   "execution_count": 8,
   "metadata": {},
   "outputs": [
    {
     "data": {
      "text/plain": [
       "<xml.etree.ElementTree.ElementTree at 0x244fd41d240>"
      ]
     },
     "execution_count": 8,
     "metadata": {},
     "output_type": "execute_result"
    }
   ],
   "source": [
    "# (2) xml 파일 => xml 객체\n",
    "# xml 변수명 = parse(xml파일)\n",
    "\n",
    "tree = parse('country_data.xml')\n",
    "tree"
   ]
  },
  {
   "cell_type": "code",
   "execution_count": 9,
   "metadata": {},
   "outputs": [
    {
     "data": {
      "text/plain": [
       "(<Element 'data' at 0x00000244FD414408>, xml.etree.ElementTree.Element)"
      ]
     },
     "execution_count": 9,
     "metadata": {},
     "output_type": "execute_result"
    }
   ],
   "source": [
    "# (3) 최상위 부모 태그 요소 찾기 \n",
    "# root = xml객체.getroot()\n",
    "root = tree.getroot()\n",
    "root, type(root)"
   ]
  },
  {
   "cell_type": "code",
   "execution_count": 11,
   "metadata": {},
   "outputs": [
    {
     "name": "stdout",
     "output_type": "stream",
     "text": [
      "<Element 'country' at 0x00000244FD414278> / country / {'name': 'Liechtenstein'}\n",
      "<class 'str'> <class 'dict'>\n",
      "<Element 'country' at 0x00000244FD414638> / country / {'name': 'Singapore'}\n",
      "<class 'str'> <class 'dict'>\n",
      "<Element 'country' at 0x00000244FD4147C8> / country / {'name': 'Panama'}\n",
      "<class 'str'> <class 'dict'>\n"
     ]
    }
   ],
   "source": [
    "# (4) 루트의 자식요소 정보 찾기\n",
    "# .tag => 태그명 => 문자열\n",
    "# .attrib => {속성:값...} => 딕셔너리\n",
    "for child in root:\n",
    "    print(child, '/', child.tag, '/', child.attrib)\n",
    "    print(type(child.tag), type(child.attrib))"
   ]
  },
  {
   "cell_type": "code",
   "execution_count": 12,
   "metadata": {},
   "outputs": [
    {
     "name": "stdout",
     "output_type": "stream",
     "text": [
      "[<Element 'country' at 0x00000244FD414278>, <Element 'country' at 0x00000244FD414638>, <Element 'country' at 0x00000244FD4147C8>]\n",
      "\n",
      "        \n",
      "\n",
      "        \n",
      "\n",
      "        \n"
     ]
    }
   ],
   "source": [
    "# (5) 특정 요소 찾기\n",
    "# findall(태그명) => 리스트\n",
    "# find(태그명) => 특정 요소 1개\n",
    "# .text => 내용\n",
    "# .get(속성) => 속성값\n",
    "\n",
    "country_list = root.findall('country')\n",
    "print(country_list)\n",
    "\n",
    "for country in country_list:\n",
    "    print(country.text)"
   ]
  },
  {
   "cell_type": "code",
   "execution_count": 14,
   "metadata": {},
   "outputs": [
    {
     "name": "stdout",
     "output_type": "stream",
     "text": [
      "country \t Panama \t Panama\n",
      "==================================================\n",
      "country \t Panama \t Panama\n",
      "==================================================\n",
      "country \t Panama \t Panama\n",
      "==================================================\n"
     ]
    }
   ],
   "source": [
    "# 자식 요소 찾기\n",
    "# .find(태그명1).find(태그명2)...\n",
    "for coutry in country_list:\n",
    "    print(country.tag,'\\t', country.attrib['name'], '\\t', country.get('name')) #attrib와 get 똑같음\n",
    "    print('='*50)"
   ]
  },
  {
   "cell_type": "code",
   "execution_count": 18,
   "metadata": {},
   "outputs": [
    {
     "name": "stdout",
     "output_type": "stream",
     "text": [
      "rank 68\n",
      "year 2011\n",
      "gdppc 13600\n",
      "neighbor Costa Rica W\n",
      "neighbor Costa Rica W\n",
      "rank 68\n",
      "year 2011\n",
      "gdppc 13600\n",
      "neighbor Costa Rica W\n",
      "neighbor Costa Rica W\n",
      "rank 68\n",
      "year 2011\n",
      "gdppc 13600\n",
      "neighbor Costa Rica W\n",
      "neighbor Costa Rica W\n"
     ]
    }
   ],
   "source": [
    "# 자식 요소 찾기\n",
    "# .find(태그명1).find(태그명2)...\n",
    "for coutry in country_list:\n",
    "    print(country.find('rank').tag, country.find('rank').text)\n",
    "    print(country.find('year').tag, country.find('year').text)\n",
    "    print(country.find('gdppc').tag, country.find('gdppc').text)\n",
    "    # find()\n",
    "    print(country.find('neighbor').tag,\n",
    "          country.find('neighbor').get('name'),\n",
    "          country.find('neighbor').get('direction'))\n",
    "    # findall()\n",
    "    print(country.findall('neighbor')[0].tag, \n",
    "          country.findall('neighbor')[0].get('name'),\n",
    "          country.findall('neighbor')[0].get('direction') )\n",
    "#    print(country.findall('neighbor')[1].tag,\n",
    "#          country.findall('neighbor')[1].get('name'),\n",
    "#          country.findall('neighbor')[1].get('direction') )\n",
    "#    print('='*50)"
   ]
  },
  {
   "cell_type": "code",
   "execution_count": 23,
   "metadata": {},
   "outputs": [
    {
     "data": {
      "text/plain": [
       "[['1', '2008', '141100'], ['4', '2011', '59900'], ['68', '2011', '13600']]"
      ]
     },
     "execution_count": 23,
     "metadata": {},
     "output_type": "execute_result"
    }
   ],
   "source": [
    "# (6) xml => 2차원 리스트\n",
    "country_list = root.findall('country')\n",
    "country_list2 = []\n",
    "for country in country_list:\n",
    "    rank = country.find('rank').text\n",
    "    year = country.find('year').text\n",
    "    gdppc = country.find('gdppc').text\n",
    "    country_list2.append([rank, year, gdppc])\n",
    "    \n",
    "country_list2"
   ]
  },
  {
   "cell_type": "code",
   "execution_count": 24,
   "metadata": {},
   "outputs": [
    {
     "data": {
      "text/html": [
       "<div>\n",
       "<style scoped>\n",
       "    .dataframe tbody tr th:only-of-type {\n",
       "        vertical-align: middle;\n",
       "    }\n",
       "\n",
       "    .dataframe tbody tr th {\n",
       "        vertical-align: top;\n",
       "    }\n",
       "\n",
       "    .dataframe thead th {\n",
       "        text-align: right;\n",
       "    }\n",
       "</style>\n",
       "<table border=\"1\" class=\"dataframe\">\n",
       "  <thead>\n",
       "    <tr style=\"text-align: right;\">\n",
       "      <th></th>\n",
       "      <th>rank</th>\n",
       "      <th>year</th>\n",
       "      <th>gdppc</th>\n",
       "    </tr>\n",
       "  </thead>\n",
       "  <tbody>\n",
       "    <tr>\n",
       "      <th>0</th>\n",
       "      <td>1</td>\n",
       "      <td>2008</td>\n",
       "      <td>141100</td>\n",
       "    </tr>\n",
       "    <tr>\n",
       "      <th>1</th>\n",
       "      <td>4</td>\n",
       "      <td>2011</td>\n",
       "      <td>59900</td>\n",
       "    </tr>\n",
       "    <tr>\n",
       "      <th>2</th>\n",
       "      <td>68</td>\n",
       "      <td>2011</td>\n",
       "      <td>13600</td>\n",
       "    </tr>\n",
       "  </tbody>\n",
       "</table>\n",
       "</div>"
      ],
      "text/plain": [
       "  rank  year   gdppc\n",
       "0    1  2008  141100\n",
       "1    4  2011   59900\n",
       "2   68  2011   13600"
      ]
     },
     "execution_count": 24,
     "metadata": {},
     "output_type": "execute_result"
    }
   ],
   "source": [
    "# (7) 데이터프레임 변경\n",
    "df_country = pd.DataFrame(country_list2, columns = ['rank', 'year', 'gdppc'])\n",
    "df_country"
   ]
  },
  {
   "cell_type": "code",
   "execution_count": null,
   "metadata": {},
   "outputs": [],
   "source": []
  }
 ],
 "metadata": {
  "kernelspec": {
   "display_name": "Python 3",
   "language": "python",
   "name": "python3"
  },
  "language_info": {
   "codemirror_mode": {
    "name": "ipython",
    "version": 3
   },
   "file_extension": ".py",
   "mimetype": "text/x-python",
   "name": "python",
   "nbconvert_exporter": "python",
   "pygments_lexer": "ipython3",
   "version": "3.7.3"
  }
 },
 "nbformat": 4,
 "nbformat_minor": 2
}
