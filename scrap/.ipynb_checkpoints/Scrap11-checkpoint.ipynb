{
 "cells": [
  {
   "cell_type": "markdown",
   "metadata": {},
   "source": [
    "# Finance Data Reader\n",
    "\n",
    "- 국내 주식가격, 주가지수, 환율, 암호화페 데이타 제공 \n",
    "- https://financedata.github.io/posts/finance-data-reader-users-guide.html\n",
    "- 설치 \n",
    "```\n",
    "pip install pandas\n",
    "pip install -U finance-datareader\n",
    "```"
   ]
  },
  {
   "cell_type": "code",
   "execution_count": 18,
   "metadata": {},
   "outputs": [
    {
     "name": "stdout",
     "output_type": "stream",
     "text": [
      "Package                            Version  \n",
      "---------------------------------- ---------\n",
      "-ffi                               1.12.2   \n",
      "absl-py                            0.8.0    \n",
      "alabaster                          0.7.12   \n",
      "anaconda-client                    1.7.2    \n",
      "anaconda-navigator                 1.9.7    \n",
      "anaconda-project                   0.8.2    \n",
      "appdirs                            1.4.4    \n",
      "asn1crypto                         0.24.0   \n",
      "astor                              0.8.0    \n",
      "astroid                            2.2.5    \n",
      "astropy                            3.1.2    \n",
      "async-generator                    1.10     \n",
      "atomicwrites                       1.3.0    \n",
      "attrs                              21.2.0   \n",
      "Automat                            20.2.0   \n",
      "Babel                              2.6.0    \n",
      "backcall                           0.1.0    \n",
      "backports.os                       0.1.1    \n",
      "backports.shutil-get-terminal-size 1.0.0    \n",
      "bcrypt                             3.1.7    \n",
      "beautifulsoup4                     4.6.0    \n",
      "bitarray                           0.8.3    \n",
      "bkcharts                           0.2      \n",
      "blaze                              0.11.3   \n",
      "bleach                             3.1.0    \n",
      "bokeh                              1.0.4    \n",
      "boto                               2.49.0   \n",
      "Bottleneck                         1.2.1    \n",
      "bs4                                0.0.1    \n",
      "cachetools                         4.2.1    \n",
      "certifi                            2020.12.5\n",
      "cffi                               1.15.0   \n",
      "chardet                            3.0.4    \n",
      "Click                              7.0      \n",
      "cloudpickle                        0.8.0    \n",
      "clyent                             1.2.2    \n",
      "colorama                           0.4.1    \n",
      "comtypes                           1.1.7    \n",
      "conda                              4.10.0   \n",
      "conda-build                        3.17.8   \n",
      "conda-package-handling             1.6.0    \n",
      "conda-verify                       3.1.1    \n",
      "constantly                         15.1.0   \n",
      "contextlib2                        0.5.5    \n",
      "cryptography                       2.6.1    \n",
      "cycler                             0.10.0   \n",
      "Cython                             0.29.6   \n",
      "cytoolz                            0.9.0.1  \n",
      "dask                               1.1.4    \n",
      "datashape                          0.5.4    \n",
      "decorator                          4.4.0    \n",
      "defusedxml                         0.5.0    \n",
      "distributed                        1.26.0   \n",
      "docutils                           0.14     \n",
      "entrypoints                        0.3      \n",
      "et-xmlfile                         1.0.1    \n",
      "fastcache                          1.0.2    \n",
      "filelock                           3.0.10   \n",
      "finance-datareader                 0.9.31   \n",
      "Flask                              1.0.2    \n",
      "Flask-Cors                         3.0.8    \n",
      "future                             0.17.1   \n",
      "gast                               0.2.2    \n",
      "gevent                             1.4.0    \n",
      "glob2                              0.6      \n",
      "google-auth                        1.28.1   \n",
      "google-auth-oauthlib               0.4.4    \n",
      "google-pasta                       0.1.7    \n",
      "greenlet                           0.4.15   \n",
      "grpcio                             1.23.0   \n",
      "h11                                0.12.0   \n",
      "h5py                               2.9.0    \n",
      "heapdict                           1.0.0    \n",
      "html5lib                           1.0.1    \n",
      "hyperlink                          21.0.0   \n",
      "idna                               2.8      \n",
      "imageio                            2.5.0    \n",
      "imagesize                          1.1.0    \n",
      "importlib-metadata                 0.0.0    \n",
      "incremental                        17.5.0   \n",
      "ipykernel                          5.1.0    \n",
      "ipython                            7.4.0    \n",
      "ipython-genutils                   0.2.0    \n",
      "ipywidgets                         7.4.2    \n",
      "isort                              4.3.16   \n",
      "itsdangerous                       1.1.0    \n",
      "jdcal                              1.4      \n",
      "jedi                               0.13.3   \n",
      "Jinja2                             2.10     \n",
      "JPype1                             1.2.0    \n",
      "jsonschema                         3.0.1    \n",
      "jupyter                            1.0.0    \n",
      "jupyter-client                     5.2.4    \n",
      "jupyter-console                    6.0.0    \n",
      "jupyter-core                       4.4.0    \n",
      "jupyterlab                         0.35.4   \n",
      "jupyterlab-launcher                0.13.1   \n",
      "jupyterlab-server                  0.2.0    \n",
      "Keras-Applications                 1.0.8    \n",
      "Keras-Preprocessing                1.1.0    \n",
      "keyring                            18.0.0   \n",
      "kiwisolver                         1.0.1    \n",
      "konlpy                             0.5.2    \n",
      "lazy-object-proxy                  1.3.1    \n",
      "libarchive-c                       2.8      \n",
      "lightgbm                           2.3.1    \n",
      "llvmlite                           0.28.0   \n",
      "locket                             0.2.0    \n",
      "lxml                               4.3.2    \n",
      "Markdown                           3.1.1    \n",
      "MarkupSafe                         1.1.1    \n",
      "matplotlib                         3.0.3    \n",
      "mccabe                             0.6.1    \n",
      "menuinst                           1.4.16   \n",
      "mistune                            0.8.4    \n",
      "mkl-fft                            1.0.10   \n",
      "mkl-random                         1.0.2    \n",
      "more-itertools                     6.0.0    \n",
      "mpmath                             1.1.0    \n",
      "msgpack                            0.6.1    \n",
      "multipledispatch                   0.6.0    \n",
      "navigator-updater                  0.2.1    \n",
      "nbconvert                          5.4.1    \n",
      "nbformat                           4.4.0    \n",
      "networkx                           2.2      \n",
      "nltk                               3.4      \n",
      "nose                               1.3.7    \n",
      "notebook                           5.7.8    \n",
      "numba                              0.43.1   \n",
      "numexpr                            2.6.9    \n",
      "numpy                              1.16.2   \n",
      "numpydoc                           0.8.0    \n",
      "oauthlib                           3.1.0    \n",
      "odo                                0.5.1    \n",
      "olefile                            0.46     \n",
      "openpyxl                           2.6.1    \n",
      "opt-einsum                         3.3.0    \n",
      "outcome                            1.1.0    \n",
      "packaging                          19.0     \n",
      "pandas                             0.24.2   \n",
      "pandocfilters                      1.4.2    \n",
      "parso                              0.3.4    \n",
      "partd                              0.3.10   \n",
      "path.py                            11.5.0   \n",
      "pathlib2                           2.3.3    \n",
      "patsy                              0.5.1    \n",
      "pep8                               1.7.1    \n",
      "pickleshare                        0.7.5    \n",
      "Pillow                             5.4.1    \n",
      "pip                                19.0.3   \n",
      "pkginfo                            1.5.0.1  \n",
      "pluggy                             0.9.0    \n",
      "ply                                3.11     \n",
      "prometheus-client                  0.6.0    \n",
      "prompt-toolkit                     2.0.9    \n",
      "protobuf                           3.9.1    \n",
      "psutil                             5.6.1    \n",
      "py                                 1.8.0    \n",
      "pyasn1                             0.4.8    \n",
      "pyasn1-modules                     0.2.7    \n",
      "pycodestyle                        2.5.0    \n",
      "pycosat                            0.6.3    \n",
      "pycparser                          2.19     \n",
      "pycrypto                           2.6.1    \n",
      "pycurl                             7.43.0.2 \n",
      "pyflakes                           2.1.1    \n",
      "Pygments                           2.3.1    \n",
      "PyHamcrest                         2.0.2    \n",
      "pylint                             2.3.1    \n",
      "pyodbc                             4.0.26   \n",
      "pyOpenSSL                          19.0.0   \n",
      "pyparsing                          2.3.1    \n",
      "pyreadline                         2.1      \n",
      "pyrsistent                         0.14.11  \n",
      "PySocks                            1.6.8    \n",
      "pytest                             4.3.1    \n",
      "pytest-arraydiff                   0.3      \n",
      "pytest-astropy                     0.5.0    \n",
      "pytest-doctestplus                 0.3.0    \n",
      "pytest-openfiles                   0.3.2    \n",
      "pytest-remotedata                  0.3.1    \n",
      "python-dateutil                    2.8.0    \n",
      "pytz                               2018.9   \n",
      "PyWavelets                         1.0.2    \n",
      "pywin32                            223      \n",
      "pywinpty                           0.5.5    \n",
      "PyYAML                             5.1      \n",
      "pyzmq                              18.0.0   \n",
      "QtAwesome                          0.5.7    \n",
      "qtconsole                          4.4.3    \n",
      "QtPy                               1.7.0    \n",
      "requests                           2.21.0   \n",
      "requests-file                      1.5.1    \n",
      "requests-oauthlib                  1.3.0    \n",
      "rope                               0.12.0   \n",
      "rsa                                4.7.2    \n",
      "ruamel-yaml                        0.15.46  \n",
      "scikit-image                       0.14.2   \n",
      "scikit-learn                       0.20.3   \n",
      "scipy                              1.2.1    \n",
      "seaborn                            0.9.0    \n",
      "selenium                           4.0.0    \n",
      "Send2Trash                         1.5.0    \n",
      "service-identity                   18.1.0   \n",
      "setuptools                         41.2.0   \n",
      "simplegeneric                      0.8.1    \n",
      "singledispatch                     3.4.0.3  \n",
      "six                                1.12.0   \n",
      "sniffio                            1.2.0    \n",
      "snowballstemmer                    1.2.1    \n",
      "sortedcollections                  1.1.2    \n",
      "sortedcontainers                   2.1.0    \n",
      "soupsieve                          1.8      \n",
      "Sphinx                             1.8.5    \n",
      "sphinxcontrib-websupport           1.1.0    \n",
      "spyder                             3.3.3    \n",
      "spyder-kernels                     0.4.2    \n",
      "SQLAlchemy                         1.3.1    \n",
      "statsmodels                        0.9.0    \n",
      "sympy                              1.3      \n",
      "tables                             3.5.1    \n",
      "tblib                              1.3.2    \n",
      "tensorboard                        2.0.2    \n",
      "tensorflow                         2.0.0    \n",
      "tensorflow-estimator               2.0.1    \n",
      "termcolor                          1.1.0    \n",
      "terminado                          0.8.1    \n",
      "testpath                           0.4.2    \n",
      "toolz                              0.9.0    \n",
      "tornado                            6.0.2    \n",
      "tqdm                               4.31.1   \n",
      "traitlets                          4.3.2    \n",
      "trio                               0.19.0   \n",
      "trio-websocket                     0.9.2    \n",
      "tweepy                             3.10.0   \n",
      "Twisted                            20.3.0   \n",
      "typing-extensions                  3.7.4.3  \n",
      "unicodecsv                         0.14.1   \n",
      "urllib3                            1.24.3   \n",
      "wcwidth                            0.1.7    \n",
      "webencodings                       0.5.1    \n",
      "Werkzeug                           0.14.1   \n",
      "wheel                              0.33.1   \n",
      "widgetsnbextension                 3.4.2    \n",
      "win-inet-pton                      1.1.0    \n",
      "win-unicode-console                0.5      \n",
      "wincertstore                       0.2      \n",
      "wordcloud                          1.8.1    \n",
      "wrapt                              1.11.1   \n",
      "wsproto                            1.0.0    \n",
      "xgboost                            1.0.2    \n",
      "xlrd                               1.2.0    \n",
      "XlsxWriter                         1.1.5    \n",
      "xlwings                            0.15.4   \n",
      "xlwt                               1.3.0    \n",
      "zict                               0.1.4    \n",
      "zipp                               0.3.3    \n",
      "zope.interface                     5.1.0    \n",
      "Note: you may need to restart the kernel to use updated packages.\n"
     ]
    }
   ],
   "source": [
    "#pip list"
   ]
  },
  {
   "cell_type": "code",
   "execution_count": 20,
   "metadata": {},
   "outputs": [],
   "source": [
    "# 관련 모듈\n",
    "\n",
    "import pandas as pd\n",
    "import FinanceDataReader as fdr"
   ]
  },
  {
   "cell_type": "code",
   "execution_count": 11,
   "metadata": {},
   "outputs": [
    {
     "data": {
      "text/plain": [
       "'0.9.31'"
      ]
     },
     "execution_count": 11,
     "metadata": {},
     "output_type": "execute_result"
    }
   ],
   "source": [
    "fdr.__version__ # 버전확인"
   ]
  },
  {
   "cell_type": "code",
   "execution_count": 12,
   "metadata": {},
   "outputs": [
    {
     "data": {
      "text/plain": [
       "'0.24.2'"
      ]
     },
     "execution_count": 12,
     "metadata": {},
     "output_type": "execute_result"
    }
   ],
   "source": [
    "pd.__version__"
   ]
  },
  {
   "cell_type": "markdown",
   "metadata": {},
   "source": [
    "# 종목코드 \n",
    "\n",
    "데이타프레임명 = fdr.StockListing(심볼명)\n",
    "\n",
    "```\n",
    "한국 \n",
    "심볼   거래소\n",
    "KRX   KRX 종목 전체\n",
    "KOSPI   KOSPI 종목\n",
    "KOSDAQ   KOSDAQ 종목\n",
    "KONEX   KONEX 종목\n",
    "\n",
    "미국\n",
    "심볼   거래소\n",
    "NASDAQ   나스닥 종목\n",
    "NYSE   뉴욕 증권거래소 종목\n",
    "AMEX   AMEX 종목\n",
    "SP500   S&P 500 종목\n",
    "```"
   ]
  },
  {
   "cell_type": "code",
   "execution_count": 31,
   "metadata": {},
   "outputs": [
    {
     "data": {
      "text/plain": [
       "(0, 10)"
      ]
     },
     "execution_count": 31,
     "metadata": {},
     "output_type": "execute_result"
    }
   ],
   "source": [
    "df_kospi = fdr.StockListing('KOSPI')\n",
    "\n",
    "# 전체 갯수 확인 \n",
    "# 데이타프레임명.shape\n",
    "df_kospi.shape"
   ]
  },
  {
   "cell_type": "code",
   "execution_count": 25,
   "metadata": {},
   "outputs": [
    {
     "data": {
      "text/html": [
       "<div>\n",
       "<style scoped>\n",
       "    .dataframe tbody tr th:only-of-type {\n",
       "        vertical-align: middle;\n",
       "    }\n",
       "\n",
       "    .dataframe tbody tr th {\n",
       "        vertical-align: top;\n",
       "    }\n",
       "\n",
       "    .dataframe thead th {\n",
       "        text-align: right;\n",
       "    }\n",
       "</style>\n",
       "<table border=\"1\" class=\"dataframe\">\n",
       "  <thead>\n",
       "    <tr style=\"text-align: right;\">\n",
       "      <th></th>\n",
       "      <th>Symbol</th>\n",
       "      <th>Market</th>\n",
       "      <th>Name</th>\n",
       "      <th>Sector</th>\n",
       "      <th>Industry</th>\n",
       "      <th>ListingDate</th>\n",
       "      <th>SettleMonth</th>\n",
       "      <th>Representative</th>\n",
       "      <th>HomePage</th>\n",
       "      <th>Region</th>\n",
       "    </tr>\n",
       "  </thead>\n",
       "  <tbody>\n",
       "  </tbody>\n",
       "</table>\n",
       "</div>"
      ],
      "text/plain": [
       "Empty DataFrame\n",
       "Columns: [Symbol, Market, Name, Sector, Industry, ListingDate, SettleMonth, Representative, HomePage, Region]\n",
       "Index: []"
      ]
     },
     "execution_count": 25,
     "metadata": {},
     "output_type": "execute_result"
    }
   ],
   "source": [
    "df_kospi.head(2)"
   ]
  },
  {
   "cell_type": "code",
   "execution_count": 17,
   "metadata": {},
   "outputs": [
    {
     "data": {
      "text/plain": [
       "(0, 10)"
      ]
     },
     "execution_count": 17,
     "metadata": {},
     "output_type": "execute_result"
    }
   ],
   "source": [
    "df_kosdaq = fdr.StockListing('KOSDAQ')\n",
    "df_kosdaq.shape"
   ]
  },
  {
   "cell_type": "code",
   "execution_count": 16,
   "metadata": {},
   "outputs": [
    {
     "data": {
      "text/html": [
       "<div>\n",
       "<style scoped>\n",
       "    .dataframe tbody tr th:only-of-type {\n",
       "        vertical-align: middle;\n",
       "    }\n",
       "\n",
       "    .dataframe tbody tr th {\n",
       "        vertical-align: top;\n",
       "    }\n",
       "\n",
       "    .dataframe thead th {\n",
       "        text-align: right;\n",
       "    }\n",
       "</style>\n",
       "<table border=\"1\" class=\"dataframe\">\n",
       "  <thead>\n",
       "    <tr style=\"text-align: right;\">\n",
       "      <th></th>\n",
       "      <th>Symbol</th>\n",
       "      <th>Market</th>\n",
       "      <th>Name</th>\n",
       "      <th>Sector</th>\n",
       "      <th>Industry</th>\n",
       "      <th>ListingDate</th>\n",
       "      <th>SettleMonth</th>\n",
       "      <th>Representative</th>\n",
       "      <th>HomePage</th>\n",
       "      <th>Region</th>\n",
       "    </tr>\n",
       "  </thead>\n",
       "  <tbody>\n",
       "  </tbody>\n",
       "</table>\n",
       "</div>"
      ],
      "text/plain": [
       "Empty DataFrame\n",
       "Columns: [Symbol, Market, Name, Sector, Industry, ListingDate, SettleMonth, Representative, HomePage, Region]\n",
       "Index: []"
      ]
     },
     "execution_count": 16,
     "metadata": {},
     "output_type": "execute_result"
    }
   ],
   "source": [
    "df_kosdaq.head(2)"
   ]
  },
  {
   "cell_type": "code",
   "execution_count": 19,
   "metadata": {},
   "outputs": [
    {
     "data": {
      "text/html": [
       "<div>\n",
       "<style scoped>\n",
       "    .dataframe tbody tr th:only-of-type {\n",
       "        vertical-align: middle;\n",
       "    }\n",
       "\n",
       "    .dataframe tbody tr th {\n",
       "        vertical-align: top;\n",
       "    }\n",
       "\n",
       "    .dataframe thead th {\n",
       "        text-align: right;\n",
       "    }\n",
       "</style>\n",
       "<table border=\"1\" class=\"dataframe\">\n",
       "  <thead>\n",
       "    <tr style=\"text-align: right;\">\n",
       "      <th></th>\n",
       "      <th>Symbol</th>\n",
       "      <th>Market</th>\n",
       "      <th>Name</th>\n",
       "      <th>Sector</th>\n",
       "      <th>Industry</th>\n",
       "      <th>ListingDate</th>\n",
       "      <th>SettleMonth</th>\n",
       "      <th>Representative</th>\n",
       "      <th>HomePage</th>\n",
       "      <th>Region</th>\n",
       "    </tr>\n",
       "  </thead>\n",
       "  <tbody>\n",
       "  </tbody>\n",
       "</table>\n",
       "</div>"
      ],
      "text/plain": [
       "Empty DataFrame\n",
       "Columns: [Symbol, Market, Name, Sector, Industry, ListingDate, SettleMonth, Representative, HomePage, Region]\n",
       "Index: []"
      ]
     },
     "execution_count": 19,
     "metadata": {},
     "output_type": "execute_result"
    }
   ],
   "source": [
    "# 조건 필터링\n",
    "# 데이터프레임[조건식]\n",
    "# 조건식은 데이터프레임[컬럼명] 비교 또는 관계연산자 데이터값\n",
    "# 삼성전자 정보만 출력\n",
    "df_kospi[df_kospi['Name']=='삼성전자']"
   ]
  },
  {
   "cell_type": "code",
   "execution_count": null,
   "metadata": {},
   "outputs": [],
   "source": [
    "df_kospi[df_kospi['Name']=='삼성전자']"
   ]
  },
  {
   "cell_type": "code",
   "execution_count": 22,
   "metadata": {},
   "outputs": [
    {
     "data": {
      "text/html": [
       "<div>\n",
       "<style scoped>\n",
       "    .dataframe tbody tr th:only-of-type {\n",
       "        vertical-align: middle;\n",
       "    }\n",
       "\n",
       "    .dataframe tbody tr th {\n",
       "        vertical-align: top;\n",
       "    }\n",
       "\n",
       "    .dataframe thead th {\n",
       "        text-align: right;\n",
       "    }\n",
       "</style>\n",
       "<table border=\"1\" class=\"dataframe\">\n",
       "  <thead>\n",
       "    <tr style=\"text-align: right;\">\n",
       "      <th></th>\n",
       "      <th>Symbol</th>\n",
       "      <th>Market</th>\n",
       "      <th>Name</th>\n",
       "      <th>Sector</th>\n",
       "      <th>Industry</th>\n",
       "      <th>ListingDate</th>\n",
       "      <th>SettleMonth</th>\n",
       "      <th>Representative</th>\n",
       "      <th>HomePage</th>\n",
       "      <th>Region</th>\n",
       "    </tr>\n",
       "  </thead>\n",
       "  <tbody>\n",
       "    <tr>\n",
       "      <th>0</th>\n",
       "      <td>KR7060310000</td>\n",
       "      <td></td>\n",
       "      <td>KSQ</td>\n",
       "      <td>NaN</td>\n",
       "      <td>NaN</td>\n",
       "      <td>NaT</td>\n",
       "      <td>NaN</td>\n",
       "      <td>NaN</td>\n",
       "      <td>NaN</td>\n",
       "      <td>NaN</td>\n",
       "    </tr>\n",
       "    <tr>\n",
       "      <th>1</th>\n",
       "      <td>KR7095570008</td>\n",
       "      <td></td>\n",
       "      <td>STK</td>\n",
       "      <td>NaN</td>\n",
       "      <td>NaN</td>\n",
       "      <td>NaT</td>\n",
       "      <td>NaN</td>\n",
       "      <td>NaN</td>\n",
       "      <td>NaN</td>\n",
       "      <td>NaN</td>\n",
       "    </tr>\n",
       "    <tr>\n",
       "      <th>2</th>\n",
       "      <td>KR7006840003</td>\n",
       "      <td></td>\n",
       "      <td>STK</td>\n",
       "      <td>NaN</td>\n",
       "      <td>NaN</td>\n",
       "      <td>NaT</td>\n",
       "      <td>NaN</td>\n",
       "      <td>NaN</td>\n",
       "      <td>NaN</td>\n",
       "      <td>NaN</td>\n",
       "    </tr>\n",
       "    <tr>\n",
       "      <th>3</th>\n",
       "      <td>KR7054620000</td>\n",
       "      <td></td>\n",
       "      <td>KSQ</td>\n",
       "      <td>NaN</td>\n",
       "      <td>NaN</td>\n",
       "      <td>NaT</td>\n",
       "      <td>NaN</td>\n",
       "      <td>NaN</td>\n",
       "      <td>NaN</td>\n",
       "      <td>NaN</td>\n",
       "    </tr>\n",
       "    <tr>\n",
       "      <th>4</th>\n",
       "      <td>KR7265520007</td>\n",
       "      <td></td>\n",
       "      <td>KSQ</td>\n",
       "      <td>NaN</td>\n",
       "      <td>NaN</td>\n",
       "      <td>NaT</td>\n",
       "      <td>NaN</td>\n",
       "      <td>NaN</td>\n",
       "      <td>NaN</td>\n",
       "      <td>NaN</td>\n",
       "    </tr>\n",
       "  </tbody>\n",
       "</table>\n",
       "</div>"
      ],
      "text/plain": [
       "         Symbol Market Name Sector Industry ListingDate SettleMonth  \\\n",
       "0  KR7060310000         KSQ    NaN      NaN         NaT         NaN   \n",
       "1  KR7095570008         STK    NaN      NaN         NaT         NaN   \n",
       "2  KR7006840003         STK    NaN      NaN         NaT         NaN   \n",
       "3  KR7054620000         KSQ    NaN      NaN         NaT         NaN   \n",
       "4  KR7265520007         KSQ    NaN      NaN         NaT         NaN   \n",
       "\n",
       "  Representative HomePage Region  \n",
       "0            NaN      NaN    NaN  \n",
       "1            NaN      NaN    NaN  \n",
       "2            NaN      NaN    NaN  \n",
       "3            NaN      NaN    NaN  \n",
       "4            NaN      NaN    NaN  "
      ]
     },
     "execution_count": 22,
     "metadata": {},
     "output_type": "execute_result"
    }
   ],
   "source": [
    "df_krx = fdr.StockListing('KRX')\n",
    "df_krx.head()"
   ]
  },
  {
   "cell_type": "code",
   "execution_count": 30,
   "metadata": {},
   "outputs": [
    {
     "name": "stderr",
     "output_type": "stream",
     "text": [
      "100%|█████████████████████████████████████████████████████████████████████████████| 4201/4201 [00:07<00:00, 556.76it/s]\n"
     ]
    },
    {
     "name": "stdout",
     "output_type": "stream",
     "text": [
      "(4201, 4)\n"
     ]
    },
    {
     "data": {
      "text/html": [
       "<div>\n",
       "<style scoped>\n",
       "    .dataframe tbody tr th:only-of-type {\n",
       "        vertical-align: middle;\n",
       "    }\n",
       "\n",
       "    .dataframe tbody tr th {\n",
       "        vertical-align: top;\n",
       "    }\n",
       "\n",
       "    .dataframe thead th {\n",
       "        text-align: right;\n",
       "    }\n",
       "</style>\n",
       "<table border=\"1\" class=\"dataframe\">\n",
       "  <thead>\n",
       "    <tr style=\"text-align: right;\">\n",
       "      <th></th>\n",
       "      <th>Symbol</th>\n",
       "      <th>Name</th>\n",
       "      <th>Industry</th>\n",
       "      <th>IndustryCode</th>\n",
       "    </tr>\n",
       "  </thead>\n",
       "  <tbody>\n",
       "    <tr>\n",
       "      <th>0</th>\n",
       "      <td>AAPL</td>\n",
       "      <td>Apple Inc</td>\n",
       "      <td>컴퓨터, 전화 및 가전제품</td>\n",
       "      <td>571060</td>\n",
       "    </tr>\n",
       "    <tr>\n",
       "      <th>1</th>\n",
       "      <td>MSFT</td>\n",
       "      <td>Microsoft Corp</td>\n",
       "      <td>소프트웨어 및 IT서비스</td>\n",
       "      <td>572010</td>\n",
       "    </tr>\n",
       "    <tr>\n",
       "      <th>2</th>\n",
       "      <td>AMZN</td>\n",
       "      <td>Amazon.com Inc</td>\n",
       "      <td>다양한 소매업</td>\n",
       "      <td>534020</td>\n",
       "    </tr>\n",
       "    <tr>\n",
       "      <th>3</th>\n",
       "      <td>GOOGL</td>\n",
       "      <td>Alphabet Inc Class A</td>\n",
       "      <td>소프트웨어 및 IT서비스</td>\n",
       "      <td>572010</td>\n",
       "    </tr>\n",
       "    <tr>\n",
       "      <th>4</th>\n",
       "      <td>FB</td>\n",
       "      <td>Facebook Inc Class A</td>\n",
       "      <td>소프트웨어 및 IT서비스</td>\n",
       "      <td>572010</td>\n",
       "    </tr>\n",
       "  </tbody>\n",
       "</table>\n",
       "</div>"
      ],
      "text/plain": [
       "  Symbol                  Name        Industry IndustryCode\n",
       "0   AAPL             Apple Inc  컴퓨터, 전화 및 가전제품       571060\n",
       "1   MSFT        Microsoft Corp   소프트웨어 및 IT서비스       572010\n",
       "2   AMZN        Amazon.com Inc         다양한 소매업       534020\n",
       "3  GOOGL  Alphabet Inc Class A   소프트웨어 및 IT서비스       572010\n",
       "4     FB  Facebook Inc Class A   소프트웨어 및 IT서비스       572010"
      ]
     },
     "execution_count": 30,
     "metadata": {},
     "output_type": "execute_result"
    }
   ],
   "source": [
    "df_nasdaq = fdr.StockListing('NASDAQ')\n",
    "print(df_nasdaq.shape)\n",
    "df_nasdaq.head()"
   ]
  },
  {
   "cell_type": "code",
   "execution_count": 34,
   "metadata": {},
   "outputs": [
    {
     "data": {
      "text/html": [
       "<div>\n",
       "<style scoped>\n",
       "    .dataframe tbody tr th:only-of-type {\n",
       "        vertical-align: middle;\n",
       "    }\n",
       "\n",
       "    .dataframe tbody tr th {\n",
       "        vertical-align: top;\n",
       "    }\n",
       "\n",
       "    .dataframe thead th {\n",
       "        text-align: right;\n",
       "    }\n",
       "</style>\n",
       "<table border=\"1\" class=\"dataframe\">\n",
       "  <thead>\n",
       "    <tr style=\"text-align: right;\">\n",
       "      <th></th>\n",
       "      <th>Symbol</th>\n",
       "      <th>Name</th>\n",
       "      <th>Industry</th>\n",
       "      <th>IndustryCode</th>\n",
       "    </tr>\n",
       "  </thead>\n",
       "  <tbody>\n",
       "  </tbody>\n",
       "</table>\n",
       "</div>"
      ],
      "text/plain": [
       "Empty DataFrame\n",
       "Columns: [Symbol, Name, Industry, IndustryCode]\n",
       "Index: []"
      ]
     },
     "execution_count": 34,
     "metadata": {},
     "output_type": "execute_result"
    }
   ],
   "source": [
    "# 판다스의 비교연산자 >,==, <, <=, >=\n",
    "# 판다스의 논리연산자 or => | , and => &\n",
    "\n",
    "# 삼성전기 또는 삼성전자\n",
    "\n",
    "df_kospi[(df_kospi['Name'] == '삼성전기') | (df_kospi['Name'] == '삼성전자')]"
   ]
  },
  {
   "cell_type": "code",
   "execution_count": 35,
   "metadata": {},
   "outputs": [
    {
     "data": {
      "text/plain": [
       "Index(['Symbol', 'Market', 'Name', 'Sector', 'Industry', 'ListingDate',\n",
       "       'SettleMonth', 'Representative', 'HomePage', 'Region'],\n",
       "      dtype='object')"
      ]
     },
     "execution_count": 35,
     "metadata": {},
     "output_type": "execute_result"
    }
   ],
   "source": [
    "# 컬럼명만 확인하기 \n",
    "# 데이타프레임명.columns\n",
    "df_kospi.columns"
   ]
  },
  {
   "cell_type": "code",
   "execution_count": 37,
   "metadata": {},
   "outputs": [
    {
     "data": {
      "text/plain": [
       "Series([], Name: Region, dtype: int64)"
      ]
     },
     "execution_count": 37,
     "metadata": {},
     "output_type": "execute_result"
    }
   ],
   "source": [
    "df_kosdaq['Region'].value_counts()"
   ]
  },
  {
   "cell_type": "code",
   "execution_count": null,
   "metadata": {},
   "outputs": [],
   "source": []
  }
 ],
 "metadata": {
  "kernelspec": {
   "display_name": "Python 3",
   "language": "python",
   "name": "python3"
  },
  "language_info": {
   "codemirror_mode": {
    "name": "ipython",
    "version": 3
   },
   "file_extension": ".py",
   "mimetype": "text/x-python",
   "name": "python",
   "nbconvert_exporter": "python",
   "pygments_lexer": "ipython3",
   "version": "3.7.3"
  }
 },
 "nbformat": 4,
 "nbformat_minor": 2
}
