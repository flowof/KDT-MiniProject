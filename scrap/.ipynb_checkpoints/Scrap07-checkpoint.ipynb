{
 "cells": [
  {
   "cell_type": "markdown",
   "metadata": {},
   "source": [
    "# 네이버 영화 댓글\n",
    "\n",
    "- 댓글 한 개\n",
    "- 댓글 한 페이지\n",
    "- 댓글 5 페이지\n",
    "- 댓글 전체 페이지\n",
    "\n",
    "https://movie.naver.com/movie/point/af/list.naver?st=mcode&sword=167697&target=after&page=1"
   ]
  },
  {
   "cell_type": "code",
   "execution_count": 1,
   "metadata": {},
   "outputs": [],
   "source": [
    "# 관련 모듈 임포트\n",
    "import requests\n",
    "from bs4 import BeautifulSoup\n",
    "import pandas as pd"
   ]
  },
  {
   "cell_type": "code",
   "execution_count": 2,
   "metadata": {},
   "outputs": [
    {
     "data": {
      "text/plain": [
       "<Response [200]>"
      ]
     },
     "execution_count": 2,
     "metadata": {},
     "output_type": "execute_result"
    }
   ],
   "source": [
    "# response 객체 => html 페이지\n",
    "\n",
    "url = 'https://movie.naver.com/movie/point/af/list.naver?st=mcode&sword=167697&target=after&page=1'\n",
    "res= requests.get(url)\n",
    "html_str = res.text\n",
    "res"
   ]
  },
  {
   "cell_type": "code",
   "execution_count": 3,
   "metadata": {},
   "outputs": [],
   "source": [
    "html_str = res.text\n",
    "soup = BeautifulSoup(html_str, 'html.parser')\n",
    "#soup"
   ]
  },
  {
   "cell_type": "code",
   "execution_count": 4,
   "metadata": {},
   "outputs": [
    {
     "data": {
      "text/plain": [
       "10"
      ]
     },
     "execution_count": 4,
     "metadata": {},
     "output_type": "execute_result"
    }
   ],
   "source": [
    "td_list = soup.find_all(class_='title')\n",
    "td_list = soup.select('.title')\n",
    "len(td_list)"
   ]
  },
  {
   "cell_type": "code",
   "execution_count": 10,
   "metadata": {},
   "outputs": [
    {
     "name": "stdout",
     "output_type": "stream",
     "text": [
      "영화제목 :  신과함께-인과 연\n",
      "URL :  /movie/bi/mi/basic.naver?code=167697\n",
      "평점 :  10\n",
      "댓글 :  현동이 너무 귀여워서 10점\n"
     ]
    }
   ],
   "source": [
    "base_url ='https://movie.naver.com'\n",
    "\n",
    "title = td_list[2].find('a').text\n",
    "score = td_list[2].find('em').text\n",
    "review = td_list[2].find('br').next_sibling.strip()\n",
    "url = td_list[2].find('a').get('href')\n",
    "\n",
    "print('영화제목 : ', title)\n",
    "print('URL : ', url)\n",
    "print('평점 : ', score)\n",
    "print('댓글 : ', review)"
   ]
  },
  {
   "cell_type": "code",
   "execution_count": 13,
   "metadata": {},
   "outputs": [
    {
     "name": "stdout",
     "output_type": "stream",
     "text": [
      "작성자 :  wind****\n",
      "날짜 :  21.10.10\n"
     ]
    }
   ],
   "source": [
    "a_list = soup.select('a.author')\n",
    "len(a_list)\n",
    "print('작성자 : ', a_list[2].text)\n",
    "print('날짜 : ', a_list[2].next_sibling.next_sibling)"
   ]
  },
  {
   "cell_type": "code",
   "execution_count": 11,
   "metadata": {},
   "outputs": [
    {
     "data": {
      "text/plain": [
       "<td class=\"title\">\n",
       "<a class=\"movie color_b\" href=\"/movie/bi/mi/basic.naver?code=167697\">신과함께-인과 연</a>\n",
       "<div class=\"list_netizen_score\">\n",
       "<span class=\"st_off\"><span class=\"st_on\" style=\"width:100%\">별점 - 총 10점 중</span></span><em>10</em>\n",
       "</div>\n",
       "<br/>현동이 너무 귀여워서 10점 \n",
       "\t\t\t\n",
       "\t\t\t\n",
       "\t\t\t\n",
       "\t\t\t\t\n",
       "\t\t\t\t\n",
       "\t\t\t\t\n",
       "\t\t\t\t<a class=\"report\" href=\"#\" onclick=\"report('wind****', 'qLv7M7y+ci9HznAgwPQMUNfgzwMSxFGjrpupanumuV0=', '현동이 너무 귀여워서 10점', '17738330', 'point_after');\" style=\"color:#8F8F8F\" title=\"새 창\">신고</a>\n",
       "</td>"
      ]
     },
     "execution_count": 11,
     "metadata": {},
     "output_type": "execute_result"
    }
   ],
   "source": [
    "#td_list[2]"
   ]
  },
  {
   "cell_type": "code",
   "execution_count": 14,
   "metadata": {},
   "outputs": [
    {
     "data": {
      "text/plain": [
       "10"
      ]
     },
     "execution_count": 14,
     "metadata": {},
     "output_type": "execute_result"
    }
   ],
   "source": [
    "# 2차원 리스트로 저장\n",
    "movie_list = []\n",
    "base_url ='https://movie.naver.com'\n",
    "\n",
    "for i in range(len(a_list)):\n",
    "    title = td_list[i].find('a').text\n",
    "    score = td_list[i].find('em').text\n",
    "    review = td_list[i].find('br').next_sibling.strip()\n",
    "    url = base_url + td_list[i].find('a').get('href')\n",
    "    author = a_list[i].text\n",
    "    date = a_list[i].next_sibling.next_sibling\n",
    "    movie_list.append([title, score, review, url, author, date])\n",
    "\n",
    "len(movie_list)"
   ]
  },
  {
   "cell_type": "markdown",
   "metadata": {},
   "source": []
  },
  {
   "cell_type": "code",
   "execution_count": null,
   "metadata": {},
   "outputs": [],
   "source": []
  }
 ],
 "metadata": {
  "kernelspec": {
   "display_name": "Python 3",
   "language": "python",
   "name": "python3"
  },
  "language_info": {
   "codemirror_mode": {
    "name": "ipython",
    "version": 3
   },
   "file_extension": ".py",
   "mimetype": "text/x-python",
   "name": "python",
   "nbconvert_exporter": "python",
   "pygments_lexer": "ipython3",
   "version": "3.7.3"
  }
 },
 "nbformat": 4,
 "nbformat_minor": 2
}
